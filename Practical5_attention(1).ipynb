{
 "cells": [
  {
   "cell_type": "markdown",
   "metadata": {
    "id": "5-yF0Cb5HlD1"
   },
   "source": [
    "# Deep Learning\n",
    "## Practical Session 05\n",
    "Görkem Saygili & Busra Ozgode Yigin, Department of Cognitive Science and Artificial Intelligence – Tilburg University"
   ]
  },
  {
   "cell_type": "markdown",
   "metadata": {
    "id": "T9nb3ZaFIjqi"
   },
   "source": [
    "# Recurrent Neural Networks with Attention Mechanism\n",
    "\n",
    "In today's practical we will consider two tasks involving sequential data on which RNNs do really excel: (i) a text classification problem that is a many-to-one (sequence-to-one) task and (ii) a text-to-text problem that will serve to illustrate many-to-many (sequence-to-sequence) problems. We will also build text classification models in Keras that use attention mechanism to provide insight into how classification decisions are being made.\n",
    "\n",
    "For the first exercise, we will go back to the IMDB dataset, this time making actual use of the sequentiality of the data. This will be the opportunity to discover recurrent layers in keras, applying them on a simple NLP task and compare the performance of the updated model by adding an attention layer. In the second part of the notebook, we will look at a more complex task/model to perform additions on strings of characters.\n",
    "\n",
    "\n",
    "Online resources that are used while preparing this tutorial:\n",
    "\n",
    "[1] https://analyticsindiamag.com/hands-on-guide-to-bi-lstm-with-attention/\n",
    "\n",
    "[2] https://blog.keras.io/a-ten-minute-introduction-to-sequence-to-sequence-learning-in-keras.html\n"
   ]
  },
  {
   "cell_type": "markdown",
   "metadata": {
    "id": "sT7u5nLHHs3w"
   },
   "source": [
    "## Part 1 - Movie Review Classification with LSTMs\n",
    "\n",
    "As you probably remember, we have worked on the IMDB datasets on our third practical, in which the task was to classify movie review as positive or negative. While the input reviews were sequences of words, we avoided the problem of variable length inputs by converting them to fixed-size vectors (with a representation akin to a bag-of-words representation, except we didn't even use the actual count of each word but just an indicator of presence or absence). Today, we will revisit the same problem, this time using recurrent neural networks which can naturally be applied to sequential data and also considering the Attention Layers. \n",
    "\n",
    "The way we vectorized the input data in our previous attempt was suboptimal from two aspects. First, we used one-hot encodings to represent words. Another popular and powerful way to associate a vector with a word is to use a dense \"word vector\", also called \"word embedding\". Second, we removed the sequential information which is key in the interpretation of a text.\n",
    "\n",
    "We will see how to improve on both aspects today."
   ]
  },
  {
   "cell_type": "markdown",
   "metadata": {
    "id": "S7Ky07j5I7Qy"
   },
   "source": [
    "### Data preprocessing\n",
    "\n",
    "We will only consider the 5000 most frequent words in the reviews. For computational reasons, we will also restrict ourselves to 2500 reiews for the training set (the same amount of examples is used for the testing set) and will cut all reviews to a maximum of 200 words.\n",
    "\n",
    "Keras provides function `pad_sequences` that takes care of the padding. We only have to give it the `max_len` argument which will determine the length of the output arrays. If sentences are shorter than this length, they will be padded and if they are longer, they will be trimmed."
   ]
  },
  {
   "cell_type": "code",
   "execution_count": 1,
   "metadata": {
    "id": "-tBVZdH_HoeU"
   },
   "outputs": [
    {
     "name": "stderr",
     "output_type": "stream",
     "text": [
      "/Users/mertturhan/anaconda3/lib/python3.11/site-packages/pandas/core/arrays/masked.py:60: UserWarning: Pandas requires version '1.3.6' or newer of 'bottleneck' (version '1.3.5' currently installed).\n",
      "  from pandas.core import (\n"
     ]
    },
    {
     "name": "stdout",
     "output_type": "stream",
     "text": [
      "Loading data...\n",
      "x_train shape: (5000, 200)\n",
      "x_test shape: (5000, 200)\n"
     ]
    }
   ],
   "source": [
    "from keras.datasets import imdb  \n",
    "from keras.preprocessing import sequence\n",
    "\n",
    "# initialization\n",
    "num_words = 2500  # number of words to consider as features\n",
    "maxlen = 200  # cut texts after this number of words (among top max_features most common words)\n",
    "\n",
    "pad_id = 0\n",
    "start_id = 1\n",
    "oov_id = 2\n",
    "index_offset = 2\n",
    "\n",
    "print('Loading data...')\n",
    "(x_train, y_train), (x_test, y_test) = imdb.load_data(num_words=num_words, start_char=start_id, oov_char=oov_id, index_from=index_offset)\n",
    "\n",
    "word2idx = imdb.get_word_index()\n",
    "idx2word = {v + index_offset: k for k,v in word2idx.items()}\n",
    "\n",
    "idx2word [pad_id]= '<PAD>'\n",
    "idx2word [start_id]= '<START>'\n",
    "idx2word [oov_id]= '<OOV>'\n",
    "\n",
    "x_train = sequence.pad_sequences(x_train, maxlen=maxlen, truncating='post', padding='post', value=pad_id)\n",
    "x_test = sequence.pad_sequences(x_test, maxlen=maxlen, truncating='post', padding='post', value=pad_id)\n",
    "\n",
    "# Reducing the size of the dataset\n",
    "x_train = x_train[:5000]\n",
    "y_train = y_train[:5000]\n",
    "x_test = x_test[:5000]\n",
    "y_test = y_test[:5000]\n",
    "print('x_train shape:', x_train.shape)\n",
    "print('x_test shape:', x_test.shape)"
   ]
  },
  {
   "cell_type": "markdown",
   "metadata": {
    "id": "erq9sMe3JW4d"
   },
   "source": [
    "### Word embeddings\n",
    "While the vectors obtained through one-hot encoding are binary, sparse (mostly composed of zeros) and very high-dimensional (same dimensionality as the number of words in the vocabulary), \"word embeddings\" are low-dimensional floating point vectors (i.e. \"dense\" vectors, as opposed to sparse vectors). Hence, it is common to see word embeddings that are 256-dimensional, 512-dimensional, or 1024-dimensional when dealing with very large vocabularies, while one-hot encoding words generally leads to vectors that are 20,000-dimensional or higher (capturing a vocabulary of 20,000 token in this case). So, word embeddings pack more information into far fewer dimensions.\n",
    "\n",
    "Another difference lies in the way the two representations are obtained: unlike hard-coded one-hot encodings, word embeddings are learned from data. "
   ]
  },
  {
   "cell_type": "markdown",
   "metadata": {
    "id": "arSCsdD1JeYh"
   },
   "source": [
    "![word embeddings vs. one hot encoding](https://s3.amazonaws.com/book.keras.io/img/ch6/word_embeddings.png)"
   ]
  },
  {
   "cell_type": "markdown",
   "metadata": {
    "id": "DcSE5nnxJhXt"
   },
   "source": [
    "There are two ways to obtain word embeddings:\n",
    "\n",
    "* Learn word embeddings jointly with the main task you care about (e.g. document classification or sentiment prediction). In this setup, you would start with random word vectors, then learn your word vectors in the same way that you learn the weights of a neural network.\n",
    "* Load word embeddings into your model that were pre-computed using a different machine learning task than the one you are trying to solve. These are called \"pre-trained word embeddings\". \n",
    "\n",
    "Today, we will restrict ourselves to the first case but we encourage you to look at [word2vec](https://en.wikipedia.org/wiki/Word2vec) (Mikolov et al., 2013) and [GloVe](https://nlp.stanford.edu/projects/glove) (Pennington et al., 2014) which are popular choices for pre-trained word embeddings. The rationale behind using pre-trained word embeddings in natural language processing is very much the same as for using pre-trained convnets in image classification: We don't have enough data available to learn truly powerful features on our own, but we expect the features that we need to be fairly generic, i.e. common visual features or semantic features. In this case it makes sense to reuse features learned on a different problem."
   ]
  },
  {
   "cell_type": "markdown",
   "metadata": {
    "id": "2ZrUfb_pJqlG"
   },
   "source": [
    "### Learning word embeddings with the `Embedding` layer\n",
    "\n",
    "\n",
    "The simplest way to associate a dense vector to a word would be to pick the vector at random. The problem with this approach is that the \n",
    "resulting embedding space would have no structure: for instance, the words \"accurate\" and \"exact\" may end up with completely different \n",
    "embeddings, even though they are interchangeable in most sentences. It would be very difficult for a deep neural network to make sense of \n",
    "such a noisy, unstructured embedding space. \n",
    "\n",
    "To get a bit more abstract: the geometric relationships between word vectors should reflect the semantic relationships between these words. \n",
    "Word embeddings are meant to map human language into a geometric space. For instance, in a reasonable embedding space, we would expect \n",
    "synonyms to be embedded into similar word vectors, and in general we would expect the geometric distance (e.g. L2 distance) between any two \n",
    "word vectors to relate to the semantic distance of the associated words (words meaning very different things would be embedded to points \n",
    "far away from each other, while related words would be closer). Even beyond mere distance, we may want specific directions in the \n",
    "embedding space to be meaningful. \n",
    "\n",
    "In real-world word embedding spaces, common examples of meaningful geometric transformations are \"gender vectors\" and \"plural vector\". For \n",
    "instance, by adding a \"female vector\" to the vector \"king\", one obtain the vector \"queen\". By adding a \"plural vector\", one obtain \"kings\". \n",
    "Word embedding spaces typically feature thousands of such interpretable and potentially useful vectors.\n",
    "\n",
    "More \n",
    "pragmatically, what makes a good word embedding space depends heavily on your task: the perfect word embedding space for an \n",
    "English-language movie review sentiment analysis model may look very different from the perfect embedding space for an English-language \n",
    "legal document classification model, because the importance of certain semantic relationships varies from task to task.\n",
    "\n",
    "It is thus reasonable to learn a new embedding space with every new task. Thankfully, backpropagation makes this really easy, and Keras makes it \n",
    "even easier. It's just about learning the weights of a layer: the `Embedding` layer."
   ]
  },
  {
   "cell_type": "markdown",
   "metadata": {
    "id": "kdeVpWZhJy62"
   },
   "source": [
    "``` python\n",
    "from keras.layers import Embedding\n",
    "\n",
    "# The Embedding layer takes at least two arguments:\n",
    "# the number of possible tokens, here 1000 (1 + maximum word index),\n",
    "# and the dimensionality of the embeddings, here 64.\n",
    "embedding_layer = Embedding(1000, 64)\n",
    "```"
   ]
  },
  {
   "cell_type": "markdown",
   "metadata": {
    "id": "b7bGDp1tJ3Bj"
   },
   "source": [
    "The `Embedding` layer is best understood as a dictionary mapping integer indices (which stand for specific words) to dense vectors. It takes \n",
    "as input integers, it looks up these integers into an internal dictionary, and it returns the associated vectors. It's effectively a dictionary lookup.\n",
    "\n",
    "The `Embedding` layer takes as input a 2D tensor of integers, of shape `(samples, sequence_length)`, where each entry is a sequence of \n",
    "integers. It can embed sequences of variable lengths, so for instance we could feed into our embedding layer above batches that could have \n",
    "shapes `(32, 10)` (batch of 32 sequences of length 10) or `(64, 15)` (batch of 64 sequences of length 15). All sequences in a batch must \n",
    "have the same length, though (since we need to pack them into a single tensor), so sequences that are shorter than others should be padded \n",
    "with zeros, and sequences that are longer should be truncated.\n",
    "\n",
    "This layer returns a 3D floating point tensor, of shape `(samples, sequence_length, embedding_dimensionality)`. Such a 3D tensor can then \n",
    "be processed by a RNN layer or a 1D convolution layer (we will focus on the RNN layer today).\n",
    "\n",
    "When you instantiate an `Embedding` layer, its weights (its internal dictionary of token vectors) are initially random, just like with any \n",
    "other layer. During training, these word vectors will be gradually adjusted via backpropagation, structuring the space into something that the \n",
    "downstream model can exploit. Once fully trained, your embedding space will show a lot of structure -- a kind of structure specialized for \n",
    "the specific problem you were training your model for."
   ]
  },
  {
   "cell_type": "markdown",
   "metadata": {
    "id": "pmtm81E8J7jh"
   },
   "source": [
    "### Exercise 1 - Building the LSTM model\n",
    "\n",
    "Now, create a self attention layer and embed the input sentences as a vector of numbers. There are two main approaches to perform this embedding pre-trained embeddings like Word2Vec or GloVe or randomly initializing. \n",
    "\n",
    "In this tutorial, we will be using a random initialization. To perform this embedding we use the `embedding` function from the layers package.The parameters of this matrix will then be trained with the rest of the graph.\n",
    "\n",
    "Let's apply this idea to our sentiment prediction task. Fill in the `build_model` function. Your model should use 32-dimensional word embeddings. After the embedding layer, we will put an LSTM layer of 64 units. "
   ]
  },
  {
   "cell_type": "code",
   "execution_count": 6,
   "metadata": {
    "id": "blf8TQXGEquc"
   },
   "outputs": [
    {
     "data": {
      "text/html": [
       "<pre style=\"white-space:pre;overflow-x:auto;line-height:normal;font-family:Menlo,'DejaVu Sans Mono',consolas,'Courier New',monospace\"><span style=\"font-weight: bold\">Model: \"functional\"</span>\n",
       "</pre>\n"
      ],
      "text/plain": [
       "\u001b[1mModel: \"functional\"\u001b[0m\n"
      ]
     },
     "metadata": {},
     "output_type": "display_data"
    },
    {
     "data": {
      "text/html": [
       "<pre style=\"white-space:pre;overflow-x:auto;line-height:normal;font-family:Menlo,'DejaVu Sans Mono',consolas,'Courier New',monospace\">┏━━━━━━━━━━━━━━━━━━━━━━━━━━━━━━━━━┳━━━━━━━━━━━━━━━━━━━━━━━━┳━━━━━━━━━━━━━━━┓\n",
       "┃<span style=\"font-weight: bold\"> Layer (type)                    </span>┃<span style=\"font-weight: bold\"> Output Shape           </span>┃<span style=\"font-weight: bold\">       Param # </span>┃\n",
       "┡━━━━━━━━━━━━━━━━━━━━━━━━━━━━━━━━━╇━━━━━━━━━━━━━━━━━━━━━━━━╇━━━━━━━━━━━━━━━┩\n",
       "│ input_layer_4 (<span style=\"color: #0087ff; text-decoration-color: #0087ff\">InputLayer</span>)      │ (<span style=\"color: #00d7ff; text-decoration-color: #00d7ff\">None</span>, <span style=\"color: #00af00; text-decoration-color: #00af00\">200</span>)            │             <span style=\"color: #00af00; text-decoration-color: #00af00\">0</span> │\n",
       "├─────────────────────────────────┼────────────────────────┼───────────────┤\n",
       "│ embedding_4 (<span style=\"color: #0087ff; text-decoration-color: #0087ff\">Embedding</span>)         │ (<span style=\"color: #00d7ff; text-decoration-color: #00d7ff\">None</span>, <span style=\"color: #00af00; text-decoration-color: #00af00\">200</span>, <span style=\"color: #00af00; text-decoration-color: #00af00\">32</span>)        │        <span style=\"color: #00af00; text-decoration-color: #00af00\">80,000</span> │\n",
       "├─────────────────────────────────┼────────────────────────┼───────────────┤\n",
       "│ lstm_1 (<span style=\"color: #0087ff; text-decoration-color: #0087ff\">LSTM</span>)                   │ (<span style=\"color: #00d7ff; text-decoration-color: #00d7ff\">None</span>, <span style=\"color: #00af00; text-decoration-color: #00af00\">64</span>)             │        <span style=\"color: #00af00; text-decoration-color: #00af00\">24,832</span> │\n",
       "├─────────────────────────────────┼────────────────────────┼───────────────┤\n",
       "│ dense_1 (<span style=\"color: #0087ff; text-decoration-color: #0087ff\">Dense</span>)                 │ (<span style=\"color: #00d7ff; text-decoration-color: #00d7ff\">None</span>, <span style=\"color: #00af00; text-decoration-color: #00af00\">1</span>)              │            <span style=\"color: #00af00; text-decoration-color: #00af00\">65</span> │\n",
       "└─────────────────────────────────┴────────────────────────┴───────────────┘\n",
       "</pre>\n"
      ],
      "text/plain": [
       "┏━━━━━━━━━━━━━━━━━━━━━━━━━━━━━━━━━┳━━━━━━━━━━━━━━━━━━━━━━━━┳━━━━━━━━━━━━━━━┓\n",
       "┃\u001b[1m \u001b[0m\u001b[1mLayer (type)                   \u001b[0m\u001b[1m \u001b[0m┃\u001b[1m \u001b[0m\u001b[1mOutput Shape          \u001b[0m\u001b[1m \u001b[0m┃\u001b[1m \u001b[0m\u001b[1m      Param #\u001b[0m\u001b[1m \u001b[0m┃\n",
       "┡━━━━━━━━━━━━━━━━━━━━━━━━━━━━━━━━━╇━━━━━━━━━━━━━━━━━━━━━━━━╇━━━━━━━━━━━━━━━┩\n",
       "│ input_layer_4 (\u001b[38;5;33mInputLayer\u001b[0m)      │ (\u001b[38;5;45mNone\u001b[0m, \u001b[38;5;34m200\u001b[0m)            │             \u001b[38;5;34m0\u001b[0m │\n",
       "├─────────────────────────────────┼────────────────────────┼───────────────┤\n",
       "│ embedding_4 (\u001b[38;5;33mEmbedding\u001b[0m)         │ (\u001b[38;5;45mNone\u001b[0m, \u001b[38;5;34m200\u001b[0m, \u001b[38;5;34m32\u001b[0m)        │        \u001b[38;5;34m80,000\u001b[0m │\n",
       "├─────────────────────────────────┼────────────────────────┼───────────────┤\n",
       "│ lstm_1 (\u001b[38;5;33mLSTM\u001b[0m)                   │ (\u001b[38;5;45mNone\u001b[0m, \u001b[38;5;34m64\u001b[0m)             │        \u001b[38;5;34m24,832\u001b[0m │\n",
       "├─────────────────────────────────┼────────────────────────┼───────────────┤\n",
       "│ dense_1 (\u001b[38;5;33mDense\u001b[0m)                 │ (\u001b[38;5;45mNone\u001b[0m, \u001b[38;5;34m1\u001b[0m)              │            \u001b[38;5;34m65\u001b[0m │\n",
       "└─────────────────────────────────┴────────────────────────┴───────────────┘\n"
      ]
     },
     "metadata": {},
     "output_type": "display_data"
    },
    {
     "data": {
      "text/html": [
       "<pre style=\"white-space:pre;overflow-x:auto;line-height:normal;font-family:Menlo,'DejaVu Sans Mono',consolas,'Courier New',monospace\"><span style=\"font-weight: bold\"> Total params: </span><span style=\"color: #00af00; text-decoration-color: #00af00\">104,897</span> (409.75 KB)\n",
       "</pre>\n"
      ],
      "text/plain": [
       "\u001b[1m Total params: \u001b[0m\u001b[38;5;34m104,897\u001b[0m (409.75 KB)\n"
      ]
     },
     "metadata": {},
     "output_type": "display_data"
    },
    {
     "data": {
      "text/html": [
       "<pre style=\"white-space:pre;overflow-x:auto;line-height:normal;font-family:Menlo,'DejaVu Sans Mono',consolas,'Courier New',monospace\"><span style=\"font-weight: bold\"> Trainable params: </span><span style=\"color: #00af00; text-decoration-color: #00af00\">104,897</span> (409.75 KB)\n",
       "</pre>\n"
      ],
      "text/plain": [
       "\u001b[1m Trainable params: \u001b[0m\u001b[38;5;34m104,897\u001b[0m (409.75 KB)\n"
      ]
     },
     "metadata": {},
     "output_type": "display_data"
    },
    {
     "data": {
      "text/html": [
       "<pre style=\"white-space:pre;overflow-x:auto;line-height:normal;font-family:Menlo,'DejaVu Sans Mono',consolas,'Courier New',monospace\"><span style=\"font-weight: bold\"> Non-trainable params: </span><span style=\"color: #00af00; text-decoration-color: #00af00\">0</span> (0.00 B)\n",
       "</pre>\n"
      ],
      "text/plain": [
       "\u001b[1m Non-trainable params: \u001b[0m\u001b[38;5;34m0\u001b[0m (0.00 B)\n"
      ]
     },
     "metadata": {},
     "output_type": "display_data"
    }
   ],
   "source": [
    "from keras.layers import Embedding, Dense, LSTM, Input\n",
    "from keras.models import Model\n",
    "from keras.regularizers import l2\n",
    "\n",
    "### PUT YOUR CODE HERE ###\n",
    "inputs1 = Input(shape=(maxlen,))\n",
    "\n",
    "x1= Embedding(num_words, 32, input_length=maxlen, embeddings_regularizer=l2(.001))(inputs1)\n",
    "\n",
    "recurrent_output = LSTM(64, dropout=0.3, recurrent_dropout=0.2)(x1)\n",
    "\n",
    "outputs1 = Dense(1, activation='sigmoid')(recurrent_output)\n",
    "\n",
    "### END ###\n",
    "\n",
    "model_lstm = Model(inputs1, outputs1)\n",
    "model_lstm.compile(optimizer = 'adam', loss = 'binary_crossentropy', metrics = ['acc'])\n",
    "model_lstm.summary()"
   ]
  },
  {
   "cell_type": "markdown",
   "metadata": {
    "id": "Y_tULAdF7Wmf"
   },
   "source": [
    "Here we have made a model without an attention mechanism. Let’s fit the model on training set and see the results."
   ]
  },
  {
   "cell_type": "code",
   "execution_count": 7,
   "metadata": {
    "id": "Z6SZL5GCLwHx"
   },
   "outputs": [
    {
     "name": "stdout",
     "output_type": "stream",
     "text": [
      "Epoch 1/10\n",
      "\u001b[1m79/79\u001b[0m \u001b[32m━━━━━━━━━━━━━━━━━━━━\u001b[0m\u001b[37m\u001b[0m \u001b[1m8s\u001b[0m 97ms/step - acc: 0.5170 - loss: 0.7228 - val_acc: 0.4914 - val_loss: 0.6941\n",
      "Epoch 2/10\n",
      "\u001b[1m79/79\u001b[0m \u001b[32m━━━━━━━━━━━━━━━━━━━━\u001b[0m\u001b[37m\u001b[0m \u001b[1m7s\u001b[0m 87ms/step - acc: 0.5205 - loss: 0.6931 - val_acc: 0.5038 - val_loss: 0.6937\n",
      "Epoch 3/10\n",
      "\u001b[1m79/79\u001b[0m \u001b[32m━━━━━━━━━━━━━━━━━━━━\u001b[0m\u001b[37m\u001b[0m \u001b[1m7s\u001b[0m 91ms/step - acc: 0.5209 - loss: 0.6924 - val_acc: 0.5002 - val_loss: 0.6949\n",
      "Epoch 4/10\n",
      "\u001b[1m79/79\u001b[0m \u001b[32m━━━━━━━━━━━━━━━━━━━━\u001b[0m\u001b[37m\u001b[0m \u001b[1m8s\u001b[0m 96ms/step - acc: 0.5191 - loss: 0.6990 - val_acc: 0.5318 - val_loss: 0.6929\n",
      "Epoch 5/10\n",
      "\u001b[1m79/79\u001b[0m \u001b[32m━━━━━━━━━━━━━━━━━━━━\u001b[0m\u001b[37m\u001b[0m \u001b[1m7s\u001b[0m 94ms/step - acc: 0.5592 - loss: 0.6899 - val_acc: 0.5522 - val_loss: 0.6888\n",
      "Epoch 6/10\n",
      "\u001b[1m79/79\u001b[0m \u001b[32m━━━━━━━━━━━━━━━━━━━━\u001b[0m\u001b[37m\u001b[0m \u001b[1m8s\u001b[0m 101ms/step - acc: 0.5759 - loss: 0.6886 - val_acc: 0.5566 - val_loss: 0.6898\n",
      "Epoch 7/10\n",
      "\u001b[1m79/79\u001b[0m \u001b[32m━━━━━━━━━━━━━━━━━━━━\u001b[0m\u001b[37m\u001b[0m \u001b[1m8s\u001b[0m 96ms/step - acc: 0.5929 - loss: 0.6795 - val_acc: 0.5750 - val_loss: 0.6836\n",
      "Epoch 8/10\n",
      "\u001b[1m79/79\u001b[0m \u001b[32m━━━━━━━━━━━━━━━━━━━━\u001b[0m\u001b[37m\u001b[0m \u001b[1m7s\u001b[0m 88ms/step - acc: 0.6047 - loss: 0.6695 - val_acc: 0.5462 - val_loss: 0.7085\n",
      "Epoch 9/10\n",
      "\u001b[1m79/79\u001b[0m \u001b[32m━━━━━━━━━━━━━━━━━━━━\u001b[0m\u001b[37m\u001b[0m \u001b[1m7s\u001b[0m 88ms/step - acc: 0.6117 - loss: 0.6731 - val_acc: 0.7164 - val_loss: 0.6257\n",
      "Epoch 10/10\n",
      "\u001b[1m79/79\u001b[0m \u001b[32m━━━━━━━━━━━━━━━━━━━━\u001b[0m\u001b[37m\u001b[0m \u001b[1m7s\u001b[0m 94ms/step - acc: 0.6490 - loss: 0.6797 - val_acc: 0.6978 - val_loss: 0.6577\n",
      "\u001b[1m157/157\u001b[0m \u001b[32m━━━━━━━━━━━━━━━━━━━━\u001b[0m\u001b[37m\u001b[0m \u001b[1m2s\u001b[0m 10ms/step - acc: 0.7112 - loss: 0.6483\n"
     ]
    }
   ],
   "source": [
    "from keras.callbacks import EarlyStopping\n",
    "callback = EarlyStopping(monitor = 'val_loss', mode = 'min', verbose = 1, patience = 3)\n",
    "\n",
    "#Fit the LSTM model for 10 epoch, batch size of 64, with early stopping\n",
    "### PUT YOUR CODE HERE ###\n",
    "lstm_history = model_lstm.fit(x_train, y_train, validation_data=(x_test, y_test), batch_size=64, epochs=10,\n",
    "                             verbose=1, callbacks=[callback])\n",
    "\n",
    "\n",
    "### END ###\n",
    "\n",
    "score, acc = model_lstm.evaluate(x_test, y_test)"
   ]
  },
  {
   "cell_type": "markdown",
   "metadata": {
    "id": "oPzDMim7TxTv"
   },
   "source": [
    "The validation accuracy is reaching up to around 54 % with the basic LSTM-based model."
   ]
  },
  {
   "cell_type": "code",
   "execution_count": 9,
   "metadata": {
    "id": "MOhGkEafSbca"
   },
   "outputs": [
    {
     "data": {
      "text/plain": [
       "[Text(0, 0.5, 'negative'), Text(0, 1.5, 'positive')]"
      ]
     },
     "execution_count": 9,
     "metadata": {},
     "output_type": "execute_result"
    },
    {
     "data": {
      "image/png": "[encoded data removed]",
      "text/plain": [
       "<Figure size 640x480 with 2 Axes>"
      ]
     },
     "metadata": {},
     "output_type": "display_data"
    }
   ],
   "source": [
    "import numpy as np\n",
    "from sklearn.metrics import confusion_matrix\n",
    "import seaborn as sns\n",
    "\n",
    "# predict probabilities for test set\n",
    "yhat_probs = model_lstm.predict(x_test, verbose=1)\n",
    "# predict classes for test set\n",
    "yhat_classes = np.where(yhat_probs>0.5, 1, 0)\n",
    "\n",
    "#Plot the confusion matrix by using heatmap from seaborn\n",
    "\n",
    "### PUT YOUR CODE HERE ###\n",
    "p=sns.heatmap(confusion_matrix(y_test, yhat_classes), annot=True, fmt='g')\n",
    "p.set_xlabel(\"Predicted Label\", fontsize=20)\n",
    "p.set_ylabel(\"True Label\", fontsize=20)\n",
    "p.xaxis.set_ticklabels(['negative','positive'], ha=\"center\", va=\"center\")\n",
    "p.yaxis.set_ticklabels(['negative', 'positive'], rotation=0, va=\"center\")\n",
    "\n",
    "### END ###"
   ]
  },
  {
   "cell_type": "markdown",
   "metadata": {
    "id": "GBd-mF8qiSXY"
   },
   "source": [
    "## Exercise 2 - LSTM + attention neural network on IMDB movie reviews\n",
    "\n",
    "### Create Attention Layer\n",
    "\n",
    "The basic concept of attention is that not all words contribute equally to the meaning of a sentence. Hence, their contribution must be weighted.\n",
    "\n",
    "How attention works is that it basically extracts words that are important to the meaning of the sentence and aggregate the representation of those informative words to form a sentence vector.\n",
    "\n",
    "Let's first create attention class:\n",
    "\n",
    "All the weights and biases corresponding to a single layer are contained by this class. We need to write the \\__init__ method as well as override the following methods:\n",
    "\n",
    "build(): Keras guide recommends adding weights in this method once the size of the inputs is known. This method creates weights. The builtin function add_weight() can be used to add weights and biases of the attention layer. If any LSTM layer’s output shape is (None, 64, 128) then our output weight and bias will be of (128, 1) shape.\n",
    "\n",
    "call(): The call() method implements the mapping of inputs to outputs. It will take the product of weights and add the bias terms to flow forward as inputs. After that, the ‘tanh’ is followed by a softmax layer. This softmax layer gives the alignment to the scores.\n",
    "\n",
    "The get_config() method collects the input shape and other information about the model."
   ]
  },
  {
   "cell_type": "code",
   "execution_count": 21,
   "metadata": {
    "id": "tLAx6aE7iTty"
   },
   "outputs": [],
   "source": [
    "import tensorflow as tf\n",
    "from keras.layers import Layer\n",
    "\n",
    "class attention(Layer):\n",
    "    def __init__(self, **kwargs):\n",
    "        super(attention, self).__init__(**kwargs)\n",
    "\n",
    "    def build(self, input_shape):\n",
    "        self.W = self.add_weight(\n",
    "            name=\"att_weight\",\n",
    "            shape=(input_shape[-1], 1),\n",
    "            initializer=\"normal\",\n",
    "            trainable=True,\n",
    "        )\n",
    "        self.b = self.add_weight(\n",
    "            name=\"att_bias\",\n",
    "            shape=(1,), \n",
    "            initializer=\"zeros\",\n",
    "            trainable=True,\n",
    "        )\n",
    "        super(attention, self).build(input_shape)\n",
    "\n",
    "    def call(self, x):\n",
    "        et = tf.tanh(tf.matmul(x, self.W) + self.b) \n",
    "        et = tf.squeeze(et, axis=-1)  \n",
    "        at = tf.nn.softmax(et, axis=1)  \n",
    "        at = tf.expand_dims(at, axis=-1) \n",
    "        output = x * at \n",
    "        return tf.reduce_sum(output, axis=1)  \n",
    "\n",
    "    def compute_output_shape(self, input_shape):\n",
    "        return (input_shape[0], input_shape[-1])\n",
    "\n",
    "    def get_config(self):\n",
    "        return super(attention, self).get_config()\n",
    "\n"
   ]
  },
  {
   "cell_type": "markdown",
   "metadata": {
    "id": "UCiHo_zOinGJ"
   },
   "source": [
    "Now, let’s try to add this custom Attention layer to our previously defined model. Except for the custom Attention layer, every other layer and their parameters remain the same. Remember, here we should set return_sequences=True in our LSTM layer because we want our LSTM to output all the hidden states.\n",
    "\n",
    "Our model uses a bi-directional RNN, we first concatenate the hidden states from each RNN before computing the attention weights and applying the weighted sum."
   ]
  },
  {
   "cell_type": "code",
   "execution_count": 22,
   "metadata": {
    "id": "SasB6jTtjGii"
   },
   "outputs": [
    {
     "data": {
      "text/html": [
       "<pre style=\"white-space:pre;overflow-x:auto;line-height:normal;font-family:Menlo,'DejaVu Sans Mono',consolas,'Courier New',monospace\"><span style=\"font-weight: bold\">Model: \"functional_2\"</span>\n",
       "</pre>\n"
      ],
      "text/plain": [
       "\u001b[1mModel: \"functional_2\"\u001b[0m\n"
      ]
     },
     "metadata": {},
     "output_type": "display_data"
    },
    {
     "data": {
      "text/html": [
       "<pre style=\"white-space:pre;overflow-x:auto;line-height:normal;font-family:Menlo,'DejaVu Sans Mono',consolas,'Courier New',monospace\">┏━━━━━━━━━━━━━━━━━━━━━━━━━━━━━━━━━┳━━━━━━━━━━━━━━━━━━━━━━━━┳━━━━━━━━━━━━━━━┓\n",
       "┃<span style=\"font-weight: bold\"> Layer (type)                    </span>┃<span style=\"font-weight: bold\"> Output Shape           </span>┃<span style=\"font-weight: bold\">       Param # </span>┃\n",
       "┡━━━━━━━━━━━━━━━━━━━━━━━━━━━━━━━━━╇━━━━━━━━━━━━━━━━━━━━━━━━╇━━━━━━━━━━━━━━━┩\n",
       "│ input_layer_10 (<span style=\"color: #0087ff; text-decoration-color: #0087ff\">InputLayer</span>)     │ (<span style=\"color: #00d7ff; text-decoration-color: #00d7ff\">None</span>, <span style=\"color: #00af00; text-decoration-color: #00af00\">200</span>)            │             <span style=\"color: #00af00; text-decoration-color: #00af00\">0</span> │\n",
       "├─────────────────────────────────┼────────────────────────┼───────────────┤\n",
       "│ embedding_10 (<span style=\"color: #0087ff; text-decoration-color: #0087ff\">Embedding</span>)        │ (<span style=\"color: #00d7ff; text-decoration-color: #00d7ff\">None</span>, <span style=\"color: #00af00; text-decoration-color: #00af00\">200</span>, <span style=\"color: #00af00; text-decoration-color: #00af00\">32</span>)        │        <span style=\"color: #00af00; text-decoration-color: #00af00\">80,000</span> │\n",
       "├─────────────────────────────────┼────────────────────────┼───────────────┤\n",
       "│ lstm_7 (<span style=\"color: #0087ff; text-decoration-color: #0087ff\">LSTM</span>)                   │ (<span style=\"color: #00d7ff; text-decoration-color: #00d7ff\">None</span>, <span style=\"color: #00af00; text-decoration-color: #00af00\">200</span>, <span style=\"color: #00af00; text-decoration-color: #00af00\">64</span>)        │        <span style=\"color: #00af00; text-decoration-color: #00af00\">24,832</span> │\n",
       "├─────────────────────────────────┼────────────────────────┼───────────────┤\n",
       "│ attention_4 (<span style=\"color: #0087ff; text-decoration-color: #0087ff\">attention</span>)         │ (<span style=\"color: #00d7ff; text-decoration-color: #00d7ff\">None</span>, <span style=\"color: #00af00; text-decoration-color: #00af00\">64</span>)             │            <span style=\"color: #00af00; text-decoration-color: #00af00\">65</span> │\n",
       "├─────────────────────────────────┼────────────────────────┼───────────────┤\n",
       "│ dense_3 (<span style=\"color: #0087ff; text-decoration-color: #0087ff\">Dense</span>)                 │ (<span style=\"color: #00d7ff; text-decoration-color: #00d7ff\">None</span>, <span style=\"color: #00af00; text-decoration-color: #00af00\">1</span>)              │            <span style=\"color: #00af00; text-decoration-color: #00af00\">65</span> │\n",
       "└─────────────────────────────────┴────────────────────────┴───────────────┘\n",
       "</pre>\n"
      ],
      "text/plain": [
       "┏━━━━━━━━━━━━━━━━━━━━━━━━━━━━━━━━━┳━━━━━━━━━━━━━━━━━━━━━━━━┳━━━━━━━━━━━━━━━┓\n",
       "┃\u001b[1m \u001b[0m\u001b[1mLayer (type)                   \u001b[0m\u001b[1m \u001b[0m┃\u001b[1m \u001b[0m\u001b[1mOutput Shape          \u001b[0m\u001b[1m \u001b[0m┃\u001b[1m \u001b[0m\u001b[1m      Param #\u001b[0m\u001b[1m \u001b[0m┃\n",
       "┡━━━━━━━━━━━━━━━━━━━━━━━━━━━━━━━━━╇━━━━━━━━━━━━━━━━━━━━━━━━╇━━━━━━━━━━━━━━━┩\n",
       "│ input_layer_10 (\u001b[38;5;33mInputLayer\u001b[0m)     │ (\u001b[38;5;45mNone\u001b[0m, \u001b[38;5;34m200\u001b[0m)            │             \u001b[38;5;34m0\u001b[0m │\n",
       "├─────────────────────────────────┼────────────────────────┼───────────────┤\n",
       "│ embedding_10 (\u001b[38;5;33mEmbedding\u001b[0m)        │ (\u001b[38;5;45mNone\u001b[0m, \u001b[38;5;34m200\u001b[0m, \u001b[38;5;34m32\u001b[0m)        │        \u001b[38;5;34m80,000\u001b[0m │\n",
       "├─────────────────────────────────┼────────────────────────┼───────────────┤\n",
       "│ lstm_7 (\u001b[38;5;33mLSTM\u001b[0m)                   │ (\u001b[38;5;45mNone\u001b[0m, \u001b[38;5;34m200\u001b[0m, \u001b[38;5;34m64\u001b[0m)        │        \u001b[38;5;34m24,832\u001b[0m │\n",
       "├─────────────────────────────────┼────────────────────────┼───────────────┤\n",
       "│ attention_4 (\u001b[38;5;33mattention\u001b[0m)         │ (\u001b[38;5;45mNone\u001b[0m, \u001b[38;5;34m64\u001b[0m)             │            \u001b[38;5;34m65\u001b[0m │\n",
       "├─────────────────────────────────┼────────────────────────┼───────────────┤\n",
       "│ dense_3 (\u001b[38;5;33mDense\u001b[0m)                 │ (\u001b[38;5;45mNone\u001b[0m, \u001b[38;5;34m1\u001b[0m)              │            \u001b[38;5;34m65\u001b[0m │\n",
       "└─────────────────────────────────┴────────────────────────┴───────────────┘\n"
      ]
     },
     "metadata": {},
     "output_type": "display_data"
    },
    {
     "data": {
      "text/html": [
       "<pre style=\"white-space:pre;overflow-x:auto;line-height:normal;font-family:Menlo,'DejaVu Sans Mono',consolas,'Courier New',monospace\"><span style=\"font-weight: bold\"> Total params: </span><span style=\"color: #00af00; text-decoration-color: #00af00\">104,962</span> (410.01 KB)\n",
       "</pre>\n"
      ],
      "text/plain": [
       "\u001b[1m Total params: \u001b[0m\u001b[38;5;34m104,962\u001b[0m (410.01 KB)\n"
      ]
     },
     "metadata": {},
     "output_type": "display_data"
    },
    {
     "data": {
      "text/html": [
       "<pre style=\"white-space:pre;overflow-x:auto;line-height:normal;font-family:Menlo,'DejaVu Sans Mono',consolas,'Courier New',monospace\"><span style=\"font-weight: bold\"> Trainable params: </span><span style=\"color: #00af00; text-decoration-color: #00af00\">104,962</span> (410.01 KB)\n",
       "</pre>\n"
      ],
      "text/plain": [
       "\u001b[1m Trainable params: \u001b[0m\u001b[38;5;34m104,962\u001b[0m (410.01 KB)\n"
      ]
     },
     "metadata": {},
     "output_type": "display_data"
    },
    {
     "data": {
      "text/html": [
       "<pre style=\"white-space:pre;overflow-x:auto;line-height:normal;font-family:Menlo,'DejaVu Sans Mono',consolas,'Courier New',monospace\"><span style=\"font-weight: bold\"> Non-trainable params: </span><span style=\"color: #00af00; text-decoration-color: #00af00\">0</span> (0.00 B)\n",
       "</pre>\n"
      ],
      "text/plain": [
       "\u001b[1m Non-trainable params: \u001b[0m\u001b[38;5;34m0\u001b[0m (0.00 B)\n"
      ]
     },
     "metadata": {},
     "output_type": "display_data"
    }
   ],
   "source": [
    "from keras.layers import Embedding, Dense, LSTM, Input\n",
    "from keras.models import Model\n",
    "from keras.regularizers import l2\n",
    "\n",
    "### PUT YOUR CODE HERE ###\n",
    "\n",
    "inputs=Input((maxlen,))\n",
    "x = Embedding(num_words, 32, input_length=maxlen, embeddings_regularizer = l2(.001))(inputs)\n",
    "att_in = LSTM(64, return_sequences = True, dropout = 0.3, recurrent_dropout = 0.2)(x)\n",
    "att_out = attention()(att_in)\n",
    "outputs = Dense(1, activation='sigmoid', trainable = True)(att_out)\n",
    "\n",
    "\n",
    "\n",
    "### END ###\n",
    "model_attention = Model(inputs, outputs)\n",
    "\n",
    "model_attention.compile(loss='binary_crossentropy', optimizer='adam', metrics=['accuracy']) \n",
    "model_attention.summary()\n"
   ]
  },
  {
   "cell_type": "markdown",
   "metadata": {
    "id": "zFKr8g3Bj-aN"
   },
   "source": [
    "Let's fit the model with attention and see the results:"
   ]
  },
  {
   "cell_type": "code",
   "execution_count": 23,
   "metadata": {
    "id": "Q06P5yd8kAj1"
   },
   "outputs": [
    {
     "name": "stdout",
     "output_type": "stream",
     "text": [
      "Epoch 1/10\n",
      "\u001b[1m79/79\u001b[0m \u001b[32m━━━━━━━━━━━━━━━━━━━━\u001b[0m\u001b[37m\u001b[0m \u001b[1m10s\u001b[0m 112ms/step - accuracy: 0.5105 - loss: 0.7214 - val_accuracy: 0.5760 - val_loss: 0.6880\n",
      "Epoch 2/10\n",
      "\u001b[1m79/79\u001b[0m \u001b[32m━━━━━━━━━━━━━━━━━━━━\u001b[0m\u001b[37m\u001b[0m \u001b[1m9s\u001b[0m 116ms/step - accuracy: 0.6208 - loss: 0.6683 - val_accuracy: 0.7712 - val_loss: 0.5291\n",
      "Epoch 3/10\n",
      "\u001b[1m79/79\u001b[0m \u001b[32m━━━━━━━━━━━━━━━━━━━━\u001b[0m\u001b[37m\u001b[0m \u001b[1m9s\u001b[0m 117ms/step - accuracy: 0.7904 - loss: 0.5213 - val_accuracy: 0.8010 - val_loss: 0.4888\n",
      "Epoch 4/10\n",
      "\u001b[1m79/79\u001b[0m \u001b[32m━━━━━━━━━━━━━━━━━━━━\u001b[0m\u001b[37m\u001b[0m \u001b[1m10s\u001b[0m 123ms/step - accuracy: 0.8387 - loss: 0.4449 - val_accuracy: 0.8048 - val_loss: 0.4877\n",
      "Epoch 5/10\n",
      "\u001b[1m79/79\u001b[0m \u001b[32m━━━━━━━━━━━━━━━━━━━━\u001b[0m\u001b[37m\u001b[0m \u001b[1m10s\u001b[0m 127ms/step - accuracy: 0.8609 - loss: 0.4037 - val_accuracy: 0.8116 - val_loss: 0.4792\n",
      "Epoch 6/10\n",
      "\u001b[1m79/79\u001b[0m \u001b[32m━━━━━━━━━━━━━━━━━━━━\u001b[0m\u001b[37m\u001b[0m \u001b[1m9s\u001b[0m 110ms/step - accuracy: 0.8870 - loss: 0.3719 - val_accuracy: 0.8050 - val_loss: 0.5153\n",
      "Epoch 7/10\n",
      "\u001b[1m79/79\u001b[0m \u001b[32m━━━━━━━━━━━━━━━━━━━━\u001b[0m\u001b[37m\u001b[0m \u001b[1m9s\u001b[0m 114ms/step - accuracy: 0.8967 - loss: 0.3477 - val_accuracy: 0.8024 - val_loss: 0.5064\n",
      "Epoch 8/10\n",
      "\u001b[1m79/79\u001b[0m \u001b[32m━━━━━━━━━━━━━━━━━━━━\u001b[0m\u001b[37m\u001b[0m \u001b[1m11s\u001b[0m 144ms/step - accuracy: 0.9133 - loss: 0.3237 - val_accuracy: 0.8036 - val_loss: 0.5290\n",
      "Epoch 8: early stopping\n",
      "\u001b[1m157/157\u001b[0m \u001b[32m━━━━━━━━━━━━━━━━━━━━\u001b[0m\u001b[37m\u001b[0m \u001b[1m2s\u001b[0m 11ms/step - accuracy: 0.8024 - loss: 0.5243\n",
      "[0.5289513468742371, 0.803600013256073]\n"
     ]
    }
   ],
   "source": [
    "from keras.callbacks import EarlyStopping\n",
    "callback = EarlyStopping(monitor = 'val_loss', mode = 'min', verbose = 1, patience = 3)\n",
    "\n",
    "#Fit the model with attention for 10 epoch, batch size of 64, with early stopping\n",
    "\n",
    "### PUT YOUR CODE HERE ###\n",
    "history_att = model_attention.fit(x_train, y_train, validation_data = (x_test, y_test), epochs = 10, \n",
    "                                  batch_size = 64, verbose = 1, callbacks = [callback])\n",
    "\n",
    "\n",
    "### END ###\n",
    "\n",
    "result = model_attention.evaluate(x_test, y_test)\n",
    "print(result)"
   ]
  },
  {
   "cell_type": "code",
   "execution_count": 24,
   "metadata": {
    "id": "c-YHK2CSCrAn"
   },
   "outputs": [
    {
     "data": {
      "text/plain": [
       "[Text(0, 0.5, 'negative'), Text(0, 1.5, 'positive')]"
      ]
     },
     "execution_count": 24,
     "metadata": {},
     "output_type": "execute_result"
    },
    {
     "data": {
      "image/png": "[encoded data removed]",
      "text/plain": [
       "<Figure size 640x480 with 2 Axes>"
      ]
     },
     "metadata": {},
     "output_type": "display_data"
    }
   ],
   "source": [
    "import numpy as np\n",
    "from sklearn.metrics import confusion_matrix\n",
    "import seaborn as sns\n",
    "\n",
    "# predict probabilities for test set\n",
    "yhat_probs = model_attention.predict(x_test, verbose=0)\n",
    "# predict classes for test set\n",
    "yhat_classes = np.where(yhat_probs>0.5, 1, 0)\n",
    "\n",
    "#Plot the confusion matrix by using heatmap from seaborn\n",
    "\n",
    "### PUT YOUR CODE HERE ###\n",
    "p = sns.heatmap(confusion_matrix(y_test, yhat_classes), annot=True, fmt='g')\n",
    "p.set_xlabel(\"Predicted label\", fontsize = 20)\n",
    "p.set_ylabel(\"True Label\", fontsize = 20)\n",
    "p.xaxis.set_ticklabels(['negative', 'positive'], ha=\"center\", va=\"center\")\n",
    "p.yaxis.set_ticklabels(['negative', 'positive'], rotation=0, va=\"center\")\n",
    "\n",
    "### END ###"
   ]
  },
  {
   "cell_type": "markdown",
   "metadata": {
    "id": "WqGcJJWFUKux"
   },
   "source": [
    "There is indeed an improvement in the performance as compared to the previous model. The validation accuracy now reaches up to 79 % after the addition of the custom Attention layer. With further pre-processing and a grid search of the parameters, we can definitely improve this further."
   ]
  },
  {
   "cell_type": "markdown",
   "metadata": {
    "id": "Of26kVshbJSN"
   },
   "source": [
    "## Part 2 - Sequence-to-sequence learning for performing additions\n",
    "\n",
    "### What is sequence-to-sequence learning?\n",
    "\n",
    "Sequence-to-sequence learning (Seq2Seq) is about training models to convert sequences from one domain (e.g. sentences in English) to sequences in another domain (e.g. the same sentences translated to French).\n",
    "\n",
    "```\n",
    "\"the cat sat on the mat\" -> [Seq2Seq model] -> \"le chat etait assis sur le tapis\"\n",
    "```\n",
    "\n",
    "There are multiple ways to handle this task, either using RNNs or using 1D convnets. Here we will focus on RNNs.\n",
    "\n",
    "In the general case, input sequences and output sequences have different lengths (e.g. machine translation or free-form question answering) and the entire input sequence is required in order to start predicting the target. Here's how it works:\n",
    "\n",
    "A RNN layer (or stack thereof) acts as \"encoder\": it processes the input sequence and returns its own internal state. Note that we discard the outputs of the encoder RNN, only recovering the state. This state will serve as the \"context\", or \"conditioning\", of the decoder in the next step.\n",
    "\n",
    "Another RNN layer (or stack thereof) acts as \"decoder\": it is trained to predict the next tokens of the target sequence, given previous tokens of the target sequence. For training specifically, the previous tokens of the ground-truth sequence are usually used instead of the predicted ones. This strategy, called \"teacher forcing\" is particularly useful at the beginning of the training when the predictions of the model are random. Importantly, the decoder uses as initial state the state vector from the encoder, which is how the decoder obtains information about what it is supposed to generate. Effectively, the decoder learns to generate target[t+1] given targets[0, ..., t], conditioned on the input sequence.\n",
    "\n",
    "Here is an illustration of the process applied to free-form question answering. `<SOS>` and `<EOS>` are special tokens used to signal the start and end of a sequence.\n",
    "\n",
    "![Example of a sequence-to-sequence model for free-form question answering.](seq2seq_model.png)\n",
    "\n",
    "In inference mode, i.e. when we want to decode unknown input sequences, we go through a slightly different process:\n",
    "\n",
    "    1) Encode the input sequence into state vector.\n",
    "    2) Start with a target sequence of size 1 (just the start-of-sequence token).\n",
    "    3) Feed the state vector and 1-word target sequence to the decoder to produce predictions for the next token.\n",
    "    4) Sample the next token using these predictions (we simply use argmax).\n",
    "    5) Append the sampled token to the target sequence\n",
    "    6) Repeat until we generate the end-of-sequence token or we hit the token limit.\n",
    "\n",
    "This way of doing inference by selecting the token with highest probability at each time step is called \"greedy decoding\". Optimizing token by token and not for the whole sequence is suboptimal but more computationally efficient. An alternative would be to consider a few options (in the case of word generation with a large vocabulary, considering all options is intractable) and compute the following sequence for each of them, then choose the sequence with highest overall probability. This technique, called \"beam decoding\" is often used in speech recognition for example."
   ]
  },
  {
   "cell_type": "markdown",
   "metadata": {
    "id": "dlO_AIf_cTkM"
   },
   "source": [
    "### Task definition\n",
    "\n",
    "Let's illustrate these ideas with actual code. In order to keep computations tractable even on the server, we will consider a simple task: performing addition. The model will take sequences of characters ([0123456789+]) corresponding to an addition as input and generate the answer as another sequence of characters (e.g. \"12 + 9\" → \"21\")."
   ]
  },
  {
   "cell_type": "markdown",
   "metadata": {
    "id": "UVKCBWUvcYAc"
   },
   "source": [
    "Here's a summary of our process:\n",
    "\n",
    "    1) Turn the sentences into 3 Numpy arrays, encoder_input_data, decoder_input_data, decoder_target_data:\n",
    "        encoder_input_data is a 3D array of shape (num_pairs, max_query_sequence_length, num_tokens) containing a one-hot vectorization of the queries.\n",
    "        decoder_input_data is a 3D array of shape (num_pairs, max_answer_sequence_length, num_tokens) containg a one-hot vectorization of the answers.\n",
    "        decoder_target_data is the same as decoder_input_data but offset by one timestep. decoder_target_data[:, t, :] will be the same as decoder_input_data[:, t + 1, :].\n",
    "    2) Train a basic GRU-based Seq2Seq model to predict decoder_target_data given encoder_input_data and decoder_input_data. Our model uses teacher forcing.\n",
    "    3) Decode some sentences to check that the model is working (i.e. turn samples from encoder_input_data into corresponding samples from decoder_target_data).\n",
    "\n",
    "Because the training process and inference process (decoding sentences) are quite different, we use different models for both, albeit they all leverage the same inner layers.\n",
    "\n",
    "But let's first generate the data:"
   ]
  },
  {
   "cell_type": "code",
   "execution_count": 35,
   "metadata": {
    "id": "72zk0DgEd1nN"
   },
   "outputs": [
    {
     "name": "stdout",
     "output_type": "stream",
     "text": [
      "Generating data...\n",
      "Total addition questions: 1000\n",
      "Vectorization...\n",
      "Training Data:\n",
      "(800, 5, 14)\n",
      "(800, 5, 14)\n",
      "Validation Data:\n",
      "(100, 5, 14)\n",
      "(100, 5, 14)\n",
      "Test Data:\n",
      "(100, 5, 14)\n",
      "(100, 5, 14)\n"
     ]
    }
   ],
   "source": [
    "\n",
    "from charactertable import CharacterTable\n",
    "from additions_dataset import load_data\n",
    "\n",
    "\n",
    "# Parameters for dataset.\n",
    "num_examples = 1000\n",
    "max_num_digits = 2\n",
    "maxlen_input = 2 * max_num_digits + 1\n",
    "reverse = False\n",
    "# All the numbers, plus sign and s/e for <SOS>/<EOS>.\n",
    "chars = '0123456789+se'\n",
    "ctable = CharacterTable(chars) #we initialize character table with those characters\n",
    "\n",
    "print('Generating data...')\n",
    "questions, expected = load_data(num_examples, max_num_digits, reverse)\n",
    "print('Total addition questions:', len(questions))\n",
    "\n",
    "print('Vectorization...')\n",
    "x = np.zeros((len(questions), maxlen_input, ctable.num_tokens))\n",
    "y = np.zeros((len(questions), max_num_digits + 3, ctable.num_tokens))\n",
    "for i, sentence in enumerate(questions):\n",
    "    x[i] = ctable.encode(sentence, maxlen_input)\n",
    "# Characters 's' and 'e' correspond to <SOS> and <EOS>\n",
    "for i, sentence in enumerate(expected):\n",
    "    y[i] = ctable.encode('s' + sentence + 'e', max_num_digits + 3) #C: string, to be encoded.\n",
    "                    #num_rows: Number of rows in the returned one-hot encoding. This is used to keep the # of rows for each data the same.\n",
    "    \n",
    "# Explicitly set apart 10% for validation and test data.\n",
    "num_examples_val = len(x) // 10\n",
    "split_at_val = len(x) - num_examples_val * 2\n",
    "split_at_test = len(x) - num_examples_val\n",
    "x_train = x[:split_at_val]\n",
    "y_train = y[:split_at_val]\n",
    "x_val = x[split_at_val:split_at_test]\n",
    "y_val = y[split_at_val:split_at_test]\n",
    "x_test = x[split_at_test:]\n",
    "y_test = y[split_at_test:]\n",
    "\n",
    "print('Training Data:')\n",
    "print(x_train.shape)\n",
    "print(y_train.shape)\n",
    "print('Validation Data:')\n",
    "print(x_val.shape)\n",
    "print(y_val.shape)\n",
    "print('Test Data:')\n",
    "print(x_test.shape)\n",
    "print(y_test.shape)"
   ]
  },
  {
   "cell_type": "markdown",
   "metadata": {
    "id": "xjYxpm1jceWH"
   },
   "source": [
    "Like all recurrent layers in Keras, `SimpleRNN` can be run in two different modes: it can return either the full sequences of successive \n",
    "outputs for each timestep (a 3D tensor of shape `(batch_size, timesteps, output_features)`), or it can return only the last output for each \n",
    "input sequence (a 2D tensor of shape `(batch_size, output_features)`). These two modes are controlled by the `return_sequences` constructor \n",
    "argument."
   ]
  },
  {
   "cell_type": "markdown",
   "metadata": {
    "id": "n5bY9Qh4ciIH"
   },
   "source": [
    "### Exercise 3 - Building the model for training\n",
    "\n",
    "Let's now build our training model. Because our model is not simply a stack of layers, we can't use the `Sequential` class, but should rather use the `Model` class (see https://keras.io/models/model). The model we will build should also leverage three key features of Keras RNNs:\n",
    "\n",
    "* The return_state contructor argument, configuring a RNN layer to return a list where the first entry is the outputs and the next entries are the internal RNN states. This is used to recover the states of the encoder.\n",
    "* The inital_state call argument, specifying the initial state(s) of a RNN. This is used to pass the encoder states to the decoder as initial states.\n",
    "* The return_sequences constructor argument, configuring a RNN to return its full sequence of outputs (instead of just the last output, which the defaults behavior). This is used in the decoder.\n",
    "\n",
    "We wrote the code for the encoder, leaving the decoder for you to define. The model is finally composed from the two components and compiled.\n",
    "\n",
    "\n",
    "\n"
   ]
  },
  {
   "cell_type": "code",
   "execution_count": 28,
   "metadata": {
    "id": "wmsJr7s3cmhX"
   },
   "outputs": [
    {
     "data": {
      "text/html": [
       "<pre style=\"white-space:pre;overflow-x:auto;line-height:normal;font-family:Menlo,'DejaVu Sans Mono',consolas,'Courier New',monospace\"><span style=\"font-weight: bold\">Model: \"functional_3\"</span>\n",
       "</pre>\n"
      ],
      "text/plain": [
       "\u001b[1mModel: \"functional_3\"\u001b[0m\n"
      ]
     },
     "metadata": {},
     "output_type": "display_data"
    },
    {
     "data": {
      "text/html": [
       "<pre style=\"white-space:pre;overflow-x:auto;line-height:normal;font-family:Menlo,'DejaVu Sans Mono',consolas,'Courier New',monospace\">┏━━━━━━━━━━━━━━━━━━━━━┳━━━━━━━━━━━━━━━━━━━┳━━━━━━━━━━━━┳━━━━━━━━━━━━━━━━━━━┓\n",
       "┃<span style=\"font-weight: bold\"> Layer (type)        </span>┃<span style=\"font-weight: bold\"> Output Shape      </span>┃<span style=\"font-weight: bold\">    Param # </span>┃<span style=\"font-weight: bold\"> Connected to      </span>┃\n",
       "┡━━━━━━━━━━━━━━━━━━━━━╇━━━━━━━━━━━━━━━━━━━╇━━━━━━━━━━━━╇━━━━━━━━━━━━━━━━━━━┩\n",
       "│ input_layer_11      │ (<span style=\"color: #00d7ff; text-decoration-color: #00d7ff\">None</span>, <span style=\"color: #00af00; text-decoration-color: #00af00\">5</span>, <span style=\"color: #00af00; text-decoration-color: #00af00\">14</span>)     │          <span style=\"color: #00af00; text-decoration-color: #00af00\">0</span> │ -                 │\n",
       "│ (<span style=\"color: #0087ff; text-decoration-color: #0087ff\">InputLayer</span>)        │                   │            │                   │\n",
       "├─────────────────────┼───────────────────┼────────────┼───────────────────┤\n",
       "│ input_layer_12      │ (<span style=\"color: #00d7ff; text-decoration-color: #00d7ff\">None</span>, <span style=\"color: #00d7ff; text-decoration-color: #00d7ff\">None</span>, <span style=\"color: #00af00; text-decoration-color: #00af00\">14</span>)  │          <span style=\"color: #00af00; text-decoration-color: #00af00\">0</span> │ -                 │\n",
       "│ (<span style=\"color: #0087ff; text-decoration-color: #0087ff\">InputLayer</span>)        │                   │            │                   │\n",
       "├─────────────────────┼───────────────────┼────────────┼───────────────────┤\n",
       "│ gru (<span style=\"color: #0087ff; text-decoration-color: #0087ff\">GRU</span>)           │ [(<span style=\"color: #00d7ff; text-decoration-color: #00d7ff\">None</span>, <span style=\"color: #00af00; text-decoration-color: #00af00\">32</span>),      │      <span style=\"color: #00af00; text-decoration-color: #00af00\">4,608</span> │ input_layer_11[<span style=\"color: #00af00; text-decoration-color: #00af00\">0</span>… │\n",
       "│                     │ (<span style=\"color: #00d7ff; text-decoration-color: #00d7ff\">None</span>, <span style=\"color: #00af00; text-decoration-color: #00af00\">32</span>)]       │            │                   │\n",
       "├─────────────────────┼───────────────────┼────────────┼───────────────────┤\n",
       "│ gru_1 (<span style=\"color: #0087ff; text-decoration-color: #0087ff\">GRU</span>)         │ [(<span style=\"color: #00d7ff; text-decoration-color: #00d7ff\">None</span>, <span style=\"color: #00d7ff; text-decoration-color: #00d7ff\">None</span>,     │      <span style=\"color: #00af00; text-decoration-color: #00af00\">4,608</span> │ input_layer_12[<span style=\"color: #00af00; text-decoration-color: #00af00\">0</span>… │\n",
       "│                     │ <span style=\"color: #00af00; text-decoration-color: #00af00\">32</span>), (<span style=\"color: #00d7ff; text-decoration-color: #00d7ff\">None</span>, <span style=\"color: #00af00; text-decoration-color: #00af00\">32</span>)]  │            │ gru[<span style=\"color: #00af00; text-decoration-color: #00af00\">0</span>][<span style=\"color: #00af00; text-decoration-color: #00af00\">1</span>]         │\n",
       "├─────────────────────┼───────────────────┼────────────┼───────────────────┤\n",
       "│ dense_4 (<span style=\"color: #0087ff; text-decoration-color: #0087ff\">Dense</span>)     │ (<span style=\"color: #00d7ff; text-decoration-color: #00d7ff\">None</span>, <span style=\"color: #00d7ff; text-decoration-color: #00d7ff\">None</span>, <span style=\"color: #00af00; text-decoration-color: #00af00\">14</span>)  │        <span style=\"color: #00af00; text-decoration-color: #00af00\">462</span> │ gru_1[<span style=\"color: #00af00; text-decoration-color: #00af00\">0</span>][<span style=\"color: #00af00; text-decoration-color: #00af00\">0</span>]       │\n",
       "└─────────────────────┴───────────────────┴────────────┴───────────────────┘\n",
       "</pre>\n"
      ],
      "text/plain": [
       "┏━━━━━━━━━━━━━━━━━━━━━┳━━━━━━━━━━━━━━━━━━━┳━━━━━━━━━━━━┳━━━━━━━━━━━━━━━━━━━┓\n",
       "┃\u001b[1m \u001b[0m\u001b[1mLayer (type)       \u001b[0m\u001b[1m \u001b[0m┃\u001b[1m \u001b[0m\u001b[1mOutput Shape     \u001b[0m\u001b[1m \u001b[0m┃\u001b[1m \u001b[0m\u001b[1m   Param #\u001b[0m\u001b[1m \u001b[0m┃\u001b[1m \u001b[0m\u001b[1mConnected to     \u001b[0m\u001b[1m \u001b[0m┃\n",
       "┡━━━━━━━━━━━━━━━━━━━━━╇━━━━━━━━━━━━━━━━━━━╇━━━━━━━━━━━━╇━━━━━━━━━━━━━━━━━━━┩\n",
       "│ input_layer_11      │ (\u001b[38;5;45mNone\u001b[0m, \u001b[38;5;34m5\u001b[0m, \u001b[38;5;34m14\u001b[0m)     │          \u001b[38;5;34m0\u001b[0m │ -                 │\n",
       "│ (\u001b[38;5;33mInputLayer\u001b[0m)        │                   │            │                   │\n",
       "├─────────────────────┼───────────────────┼────────────┼───────────────────┤\n",
       "│ input_layer_12      │ (\u001b[38;5;45mNone\u001b[0m, \u001b[38;5;45mNone\u001b[0m, \u001b[38;5;34m14\u001b[0m)  │          \u001b[38;5;34m0\u001b[0m │ -                 │\n",
       "│ (\u001b[38;5;33mInputLayer\u001b[0m)        │                   │            │                   │\n",
       "├─────────────────────┼───────────────────┼────────────┼───────────────────┤\n",
       "│ gru (\u001b[38;5;33mGRU\u001b[0m)           │ [(\u001b[38;5;45mNone\u001b[0m, \u001b[38;5;34m32\u001b[0m),      │      \u001b[38;5;34m4,608\u001b[0m │ input_layer_11[\u001b[38;5;34m0\u001b[0m… │\n",
       "│                     │ (\u001b[38;5;45mNone\u001b[0m, \u001b[38;5;34m32\u001b[0m)]       │            │                   │\n",
       "├─────────────────────┼───────────────────┼────────────┼───────────────────┤\n",
       "│ gru_1 (\u001b[38;5;33mGRU\u001b[0m)         │ [(\u001b[38;5;45mNone\u001b[0m, \u001b[38;5;45mNone\u001b[0m,     │      \u001b[38;5;34m4,608\u001b[0m │ input_layer_12[\u001b[38;5;34m0\u001b[0m… │\n",
       "│                     │ \u001b[38;5;34m32\u001b[0m), (\u001b[38;5;45mNone\u001b[0m, \u001b[38;5;34m32\u001b[0m)]  │            │ gru[\u001b[38;5;34m0\u001b[0m][\u001b[38;5;34m1\u001b[0m]         │\n",
       "├─────────────────────┼───────────────────┼────────────┼───────────────────┤\n",
       "│ dense_4 (\u001b[38;5;33mDense\u001b[0m)     │ (\u001b[38;5;45mNone\u001b[0m, \u001b[38;5;45mNone\u001b[0m, \u001b[38;5;34m14\u001b[0m)  │        \u001b[38;5;34m462\u001b[0m │ gru_1[\u001b[38;5;34m0\u001b[0m][\u001b[38;5;34m0\u001b[0m]       │\n",
       "└─────────────────────┴───────────────────┴────────────┴───────────────────┘\n"
      ]
     },
     "metadata": {},
     "output_type": "display_data"
    },
    {
     "data": {
      "text/html": [
       "<pre style=\"white-space:pre;overflow-x:auto;line-height:normal;font-family:Menlo,'DejaVu Sans Mono',consolas,'Courier New',monospace\"><span style=\"font-weight: bold\"> Total params: </span><span style=\"color: #00af00; text-decoration-color: #00af00\">9,678</span> (37.80 KB)\n",
       "</pre>\n"
      ],
      "text/plain": [
       "\u001b[1m Total params: \u001b[0m\u001b[38;5;34m9,678\u001b[0m (37.80 KB)\n"
      ]
     },
     "metadata": {},
     "output_type": "display_data"
    },
    {
     "data": {
      "text/html": [
       "<pre style=\"white-space:pre;overflow-x:auto;line-height:normal;font-family:Menlo,'DejaVu Sans Mono',consolas,'Courier New',monospace\"><span style=\"font-weight: bold\"> Trainable params: </span><span style=\"color: #00af00; text-decoration-color: #00af00\">9,678</span> (37.80 KB)\n",
       "</pre>\n"
      ],
      "text/plain": [
       "\u001b[1m Trainable params: \u001b[0m\u001b[38;5;34m9,678\u001b[0m (37.80 KB)\n"
      ]
     },
     "metadata": {},
     "output_type": "display_data"
    },
    {
     "data": {
      "text/html": [
       "<pre style=\"white-space:pre;overflow-x:auto;line-height:normal;font-family:Menlo,'DejaVu Sans Mono',consolas,'Courier New',monospace\"><span style=\"font-weight: bold\"> Non-trainable params: </span><span style=\"color: #00af00; text-decoration-color: #00af00\">0</span> (0.00 B)\n",
       "</pre>\n"
      ],
      "text/plain": [
       "\u001b[1m Non-trainable params: \u001b[0m\u001b[38;5;34m0\u001b[0m (0.00 B)\n"
      ]
     },
     "metadata": {},
     "output_type": "display_data"
    }
   ],
   "source": [
    "from keras.models import Model\n",
    "from keras.layers import Input, Dense, GRU\n",
    "\n",
    "# Parameters for the model.\n",
    "hidden_size = 32\n",
    "\n",
    "# Define an input sequence and process it.\n",
    "encoder_inputs = Input(shape=(maxlen_input, ctable.num_tokens))\n",
    "encoder_rnn_layer = GRU(hidden_size, return_state=True)\n",
    "# We discard the output of the layer and only keep the states.\n",
    "_, encoder_state = encoder_rnn_layer(encoder_inputs)\n",
    "\n",
    "### UPDATE CODE HERE ###\n",
    "# Set up the decoder, using `encoder_states` as initial state.\n",
    "decoder_inputs = Input(shape=(None, ctable.num_tokens))\n",
    "# We set up our decoder to return full output sequences,\n",
    "# and to return internal states as well. We don't use the\n",
    "# return states in the training model, but we will use them in inference.\n",
    "decoder_rnn_layer = GRU(hidden_size, return_sequences=True, return_state=True)\n",
    "decoder_outputs, _ = decoder_rnn_layer(decoder_inputs,\n",
    "                                       initial_state=encoder_state)\n",
    "decoder_dense = Dense(ctable.num_tokens, activation='softmax')\n",
    "decoder_outputs = decoder_dense(decoder_outputs)\n",
    "### END ###\n",
    "\n",
    "# Define the model that will turn\n",
    "# `encoder_inputs` & `decoder_inputs` into `decoder_outputs`\n",
    "model = Model([encoder_inputs, decoder_inputs], decoder_outputs)\n",
    "model.compile(loss='categorical_crossentropy',\n",
    "                  optimizer='rmsprop',\n",
    "                  metrics=['accuracy'])\n",
    "model.summary()"
   ]
  },
  {
   "cell_type": "markdown",
   "metadata": {
    "id": "fp3XZAQ-cm8c"
   },
   "source": [
    "### Training the model\n",
    "\n",
    "We can now train the model and plot the result. Bur first, let's see the shape of our input and target data:"
   ]
  },
  {
   "cell_type": "code",
   "execution_count": 29,
   "metadata": {
    "id": "GkUXCAQqMVSG"
   },
   "outputs": [
    {
     "name": "stdout",
     "output_type": "stream",
     "text": [
      "[[0. 0. 0. 0. 0. 0. 0. 0. 0. 1. 0. 0. 0. 0.]\n",
      " [0. 0. 0. 1. 0. 0. 0. 0. 0. 0. 0. 0. 0. 0.]\n",
      " [0. 1. 0. 0. 0. 0. 0. 0. 0. 0. 0. 0. 0. 0.]\n",
      " [0. 0. 0. 0. 1. 0. 0. 0. 0. 0. 0. 0. 0. 0.]\n",
      " [0. 0. 0. 0. 0. 1. 0. 0. 0. 0. 0. 0. 0. 0.]]\n",
      "[[0. 0. 0. 0. 0. 0. 0. 0. 0. 0. 0. 0. 0.]\n",
      " [0. 0. 0. 0. 0. 0. 0. 0. 0. 0. 0. 1. 0.]\n",
      " [0. 0. 0. 0. 0. 0. 1. 0. 0. 0. 0. 0. 0.]\n",
      " [0. 0. 0. 0. 0. 0. 0. 0. 0. 0. 0. 0. 1.]\n",
      " [1. 0. 0. 0. 0. 0. 0. 0. 0. 0. 0. 0. 0.]]\n",
      "[[0. 0. 0. 0. 0. 0. 0. 0. 0. 0. 0. 0. 1.]\n",
      " [0. 0. 0. 0. 0. 0. 0. 0. 0. 0. 1. 0. 0.]\n",
      " [0. 0. 0. 0. 0. 1. 0. 0. 0. 0. 0. 0. 0.]\n",
      " [0. 0. 0. 0. 0. 0. 0. 0. 0. 0. 0. 1. 0.]\n",
      " [0. 0. 0. 0. 0. 0. 0. 0. 0. 0. 0. 0. 0.]]\n"
     ]
    }
   ],
   "source": [
    "print(x_train[0,:,:]) #x_train will be our encoder_input_data (num_pairs, max_query_sequence_length, num_tokens)\n",
    "print(y_train[0, :, :-1]) # y_train[:, :-1] will be our decoder_input_data (num_pairs, max_answer_sequence_length, num_tokens)\n",
    "print(y_train[0, :, 1:])# y_train[:, 1:] will be our decoder_target_data is the same as decoder_input_data but offset by one timestep."
   ]
  },
  {
   "cell_type": "code",
   "execution_count": 30,
   "metadata": {
    "id": "eRohzI7Ucqdx"
   },
   "outputs": [
    {
     "name": "stdout",
     "output_type": "stream",
     "text": [
      "Epoch 1/100\n"
     ]
    },
    {
     "name": "stderr",
     "output_type": "stream",
     "text": [
      "/Users/mertturhan/anaconda3/lib/python3.11/site-packages/keras/src/models/functional.py:225: UserWarning: The structure of `inputs` doesn't match the expected structure: ['keras_tensor_32', 'keras_tensor_35']. Received: the structure of inputs=('*', '*')\n",
      "  warnings.warn(\n"
     ]
    },
    {
     "name": "stdout",
     "output_type": "stream",
     "text": [
      "50/50 - 1s - 19ms/step - accuracy: 0.3963 - loss: 2.3917 - val_accuracy: 0.3900 - val_loss: 2.2139\n",
      "Epoch 2/100\n",
      "50/50 - 0s - 2ms/step - accuracy: 0.4653 - loss: 1.9259 - val_accuracy: 0.4075 - val_loss: 1.9101\n",
      "Epoch 3/100\n",
      "50/50 - 0s - 1ms/step - accuracy: 0.5369 - loss: 1.6683 - val_accuracy: 0.4250 - val_loss: 1.7727\n",
      "Epoch 4/100\n",
      "50/50 - 0s - 2ms/step - accuracy: 0.5369 - loss: 1.5064 - val_accuracy: 0.4500 - val_loss: 1.7203\n",
      "Epoch 5/100\n",
      "50/50 - 0s - 2ms/step - accuracy: 0.5381 - loss: 1.4015 - val_accuracy: 0.4625 - val_loss: 1.6928\n",
      "Epoch 6/100\n",
      "50/50 - 0s - 2ms/step - accuracy: 0.5400 - loss: 1.3407 - val_accuracy: 0.4675 - val_loss: 1.7264\n",
      "Epoch 7/100\n",
      "50/50 - 0s - 2ms/step - accuracy: 0.5447 - loss: 1.3046 - val_accuracy: 0.4675 - val_loss: 1.7368\n",
      "Epoch 8/100\n",
      "50/50 - 0s - 1ms/step - accuracy: 0.5506 - loss: 1.2798 - val_accuracy: 0.4625 - val_loss: 1.7648\n",
      "Epoch 9/100\n",
      "50/50 - 0s - 1ms/step - accuracy: 0.5534 - loss: 1.2626 - val_accuracy: 0.4550 - val_loss: 1.9388\n",
      "Epoch 10/100\n",
      "50/50 - 0s - 1ms/step - accuracy: 0.5559 - loss: 1.2478 - val_accuracy: 0.4375 - val_loss: 2.0318\n",
      "Epoch 11/100\n",
      "50/50 - 0s - 1ms/step - accuracy: 0.5587 - loss: 1.2338 - val_accuracy: 0.4400 - val_loss: 2.1006\n",
      "Epoch 12/100\n",
      "50/50 - 0s - 2ms/step - accuracy: 0.5591 - loss: 1.2227 - val_accuracy: 0.4325 - val_loss: 2.1364\n",
      "Epoch 13/100\n",
      "50/50 - 0s - 2ms/step - accuracy: 0.5597 - loss: 1.2126 - val_accuracy: 0.4350 - val_loss: 2.1436\n",
      "Epoch 14/100\n",
      "50/50 - 0s - 2ms/step - accuracy: 0.5566 - loss: 1.2043 - val_accuracy: 0.4450 - val_loss: 2.0640\n",
      "Epoch 15/100\n",
      "50/50 - 0s - 1ms/step - accuracy: 0.5569 - loss: 1.1973 - val_accuracy: 0.4250 - val_loss: 2.3012\n",
      "Epoch 16/100\n",
      "50/50 - 0s - 1ms/step - accuracy: 0.5594 - loss: 1.1889 - val_accuracy: 0.4300 - val_loss: 2.3510\n",
      "Epoch 17/100\n",
      "50/50 - 0s - 1ms/step - accuracy: 0.5609 - loss: 1.1815 - val_accuracy: 0.4350 - val_loss: 2.3504\n",
      "Epoch 18/100\n",
      "50/50 - 0s - 1ms/step - accuracy: 0.5628 - loss: 1.1721 - val_accuracy: 0.4425 - val_loss: 2.2870\n",
      "Epoch 19/100\n",
      "50/50 - 0s - 2ms/step - accuracy: 0.5631 - loss: 1.1640 - val_accuracy: 0.4375 - val_loss: 2.3344\n",
      "Epoch 20/100\n",
      "50/50 - 0s - 2ms/step - accuracy: 0.5641 - loss: 1.1553 - val_accuracy: 0.4225 - val_loss: 2.4841\n",
      "Epoch 21/100\n",
      "50/50 - 0s - 2ms/step - accuracy: 0.5650 - loss: 1.1456 - val_accuracy: 0.4425 - val_loss: 2.3077\n",
      "Epoch 22/100\n",
      "50/50 - 0s - 1ms/step - accuracy: 0.5722 - loss: 1.1350 - val_accuracy: 0.4350 - val_loss: 2.5274\n",
      "Epoch 23/100\n",
      "50/50 - 0s - 1ms/step - accuracy: 0.5728 - loss: 1.1245 - val_accuracy: 0.4325 - val_loss: 2.5616\n",
      "Epoch 24/100\n",
      "50/50 - 0s - 1ms/step - accuracy: 0.5763 - loss: 1.1128 - val_accuracy: 0.4100 - val_loss: 2.4683\n",
      "Epoch 25/100\n",
      "50/50 - 0s - 2ms/step - accuracy: 0.5844 - loss: 1.1005 - val_accuracy: 0.4325 - val_loss: 2.5641\n",
      "Epoch 26/100\n",
      "50/50 - 0s - 2ms/step - accuracy: 0.5872 - loss: 1.0889 - val_accuracy: 0.4350 - val_loss: 2.5044\n",
      "Epoch 27/100\n",
      "50/50 - 0s - 2ms/step - accuracy: 0.5916 - loss: 1.0783 - val_accuracy: 0.4250 - val_loss: 2.5681\n",
      "Epoch 28/100\n",
      "50/50 - 0s - 2ms/step - accuracy: 0.5903 - loss: 1.0662 - val_accuracy: 0.4325 - val_loss: 2.5215\n",
      "Epoch 29/100\n",
      "50/50 - 0s - 1ms/step - accuracy: 0.6019 - loss: 1.0566 - val_accuracy: 0.4475 - val_loss: 2.5721\n",
      "Epoch 30/100\n",
      "50/50 - 0s - 1ms/step - accuracy: 0.6081 - loss: 1.0452 - val_accuracy: 0.4525 - val_loss: 2.4319\n",
      "Epoch 31/100\n",
      "50/50 - 0s - 1ms/step - accuracy: 0.6144 - loss: 1.0343 - val_accuracy: 0.4775 - val_loss: 2.5638\n",
      "Epoch 32/100\n",
      "50/50 - 0s - 1ms/step - accuracy: 0.6247 - loss: 1.0245 - val_accuracy: 0.4675 - val_loss: 2.5398\n",
      "Epoch 33/100\n",
      "50/50 - 0s - 1ms/step - accuracy: 0.6272 - loss: 1.0136 - val_accuracy: 0.4775 - val_loss: 2.5162\n",
      "Epoch 34/100\n",
      "50/50 - 0s - 1ms/step - accuracy: 0.6319 - loss: 1.0025 - val_accuracy: 0.4800 - val_loss: 2.4997\n",
      "Epoch 35/100\n",
      "50/50 - 0s - 1ms/step - accuracy: 0.6384 - loss: 0.9920 - val_accuracy: 0.4875 - val_loss: 2.3282\n",
      "Epoch 36/100\n",
      "50/50 - 0s - 2ms/step - accuracy: 0.6413 - loss: 0.9824 - val_accuracy: 0.4975 - val_loss: 2.5312\n",
      "Epoch 37/100\n",
      "50/50 - 0s - 2ms/step - accuracy: 0.6409 - loss: 0.9728 - val_accuracy: 0.4600 - val_loss: 2.3986\n",
      "Epoch 38/100\n",
      "50/50 - 0s - 2ms/step - accuracy: 0.6450 - loss: 0.9643 - val_accuracy: 0.4875 - val_loss: 2.4413\n",
      "Epoch 39/100\n",
      "50/50 - 0s - 2ms/step - accuracy: 0.6544 - loss: 0.9535 - val_accuracy: 0.4875 - val_loss: 2.3533\n",
      "Epoch 40/100\n",
      "50/50 - 0s - 1ms/step - accuracy: 0.6516 - loss: 0.9457 - val_accuracy: 0.4950 - val_loss: 2.5182\n",
      "Epoch 41/100\n",
      "50/50 - 0s - 1ms/step - accuracy: 0.6556 - loss: 0.9374 - val_accuracy: 0.4850 - val_loss: 2.4381\n",
      "Epoch 42/100\n",
      "50/50 - 0s - 2ms/step - accuracy: 0.6609 - loss: 0.9290 - val_accuracy: 0.5000 - val_loss: 2.3342\n",
      "Epoch 43/100\n",
      "50/50 - 0s - 2ms/step - accuracy: 0.6631 - loss: 0.9226 - val_accuracy: 0.4975 - val_loss: 2.3205\n",
      "Epoch 44/100\n",
      "50/50 - 0s - 2ms/step - accuracy: 0.6681 - loss: 0.9144 - val_accuracy: 0.5050 - val_loss: 2.4403\n",
      "Epoch 45/100\n",
      "50/50 - 0s - 2ms/step - accuracy: 0.6772 - loss: 0.9078 - val_accuracy: 0.4825 - val_loss: 2.2319\n",
      "Epoch 46/100\n",
      "50/50 - 0s - 1ms/step - accuracy: 0.6766 - loss: 0.9019 - val_accuracy: 0.4875 - val_loss: 2.3159\n",
      "Epoch 47/100\n",
      "50/50 - 0s - 1ms/step - accuracy: 0.6769 - loss: 0.8955 - val_accuracy: 0.4750 - val_loss: 2.2209\n",
      "Epoch 48/100\n",
      "50/50 - 0s - 2ms/step - accuracy: 0.6866 - loss: 0.8876 - val_accuracy: 0.4925 - val_loss: 2.2452\n",
      "Epoch 49/100\n",
      "50/50 - 0s - 2ms/step - accuracy: 0.6862 - loss: 0.8840 - val_accuracy: 0.4675 - val_loss: 2.0684\n",
      "Epoch 50/100\n",
      "50/50 - 0s - 2ms/step - accuracy: 0.6878 - loss: 0.8760 - val_accuracy: 0.4925 - val_loss: 2.2323\n",
      "Epoch 51/100\n",
      "50/50 - 0s - 2ms/step - accuracy: 0.6906 - loss: 0.8703 - val_accuracy: 0.5100 - val_loss: 2.1782\n",
      "Epoch 52/100\n",
      "50/50 - 0s - 1ms/step - accuracy: 0.6888 - loss: 0.8655 - val_accuracy: 0.4900 - val_loss: 2.1330\n",
      "Epoch 53/100\n",
      "50/50 - 0s - 1ms/step - accuracy: 0.6984 - loss: 0.8605 - val_accuracy: 0.5025 - val_loss: 2.2579\n",
      "Epoch 54/100\n",
      "50/50 - 0s - 1ms/step - accuracy: 0.6950 - loss: 0.8542 - val_accuracy: 0.4850 - val_loss: 2.0518\n",
      "Epoch 55/100\n",
      "50/50 - 0s - 2ms/step - accuracy: 0.7003 - loss: 0.8487 - val_accuracy: 0.4975 - val_loss: 2.3038\n",
      "Epoch 56/100\n",
      "50/50 - 0s - 2ms/step - accuracy: 0.7022 - loss: 0.8441 - val_accuracy: 0.5175 - val_loss: 2.2204\n",
      "Epoch 57/100\n",
      "50/50 - 0s - 2ms/step - accuracy: 0.7050 - loss: 0.8381 - val_accuracy: 0.4950 - val_loss: 2.2443\n",
      "Epoch 58/100\n",
      "50/50 - 0s - 1ms/step - accuracy: 0.7072 - loss: 0.8344 - val_accuracy: 0.4775 - val_loss: 2.1504\n",
      "Epoch 59/100\n",
      "50/50 - 0s - 1ms/step - accuracy: 0.7084 - loss: 0.8275 - val_accuracy: 0.4975 - val_loss: 2.1131\n",
      "Epoch 60/100\n",
      "50/50 - 0s - 1ms/step - accuracy: 0.7069 - loss: 0.8243 - val_accuracy: 0.4900 - val_loss: 2.1489\n",
      "Epoch 61/100\n",
      "50/50 - 0s - 1ms/step - accuracy: 0.7084 - loss: 0.8193 - val_accuracy: 0.5100 - val_loss: 2.1588\n",
      "Epoch 62/100\n",
      "50/50 - 0s - 1ms/step - accuracy: 0.7159 - loss: 0.8132 - val_accuracy: 0.5125 - val_loss: 2.2745\n",
      "Epoch 63/100\n",
      "50/50 - 0s - 2ms/step - accuracy: 0.7172 - loss: 0.8067 - val_accuracy: 0.5075 - val_loss: 2.2170\n",
      "Epoch 64/100\n",
      "50/50 - 0s - 1ms/step - accuracy: 0.7144 - loss: 0.8053 - val_accuracy: 0.5175 - val_loss: 2.3258\n",
      "Epoch 65/100\n",
      "50/50 - 0s - 1ms/step - accuracy: 0.7209 - loss: 0.7997 - val_accuracy: 0.5175 - val_loss: 2.2773\n",
      "Epoch 66/100\n",
      "50/50 - 0s - 2ms/step - accuracy: 0.7163 - loss: 0.7963 - val_accuracy: 0.5000 - val_loss: 2.1919\n",
      "Epoch 67/100\n",
      "50/50 - 0s - 2ms/step - accuracy: 0.7303 - loss: 0.7915 - val_accuracy: 0.5000 - val_loss: 2.2775\n",
      "Epoch 68/100\n",
      "50/50 - 0s - 2ms/step - accuracy: 0.7237 - loss: 0.7871 - val_accuracy: 0.5000 - val_loss: 2.1990\n",
      "Epoch 69/100\n",
      "50/50 - 0s - 2ms/step - accuracy: 0.7253 - loss: 0.7822 - val_accuracy: 0.4850 - val_loss: 2.1381\n",
      "Epoch 70/100\n",
      "50/50 - 0s - 2ms/step - accuracy: 0.7250 - loss: 0.7794 - val_accuracy: 0.5175 - val_loss: 2.3194\n",
      "Epoch 71/100\n",
      "50/50 - 0s - 2ms/step - accuracy: 0.7309 - loss: 0.7753 - val_accuracy: 0.4900 - val_loss: 2.2600\n",
      "Epoch 72/100\n",
      "50/50 - 0s - 2ms/step - accuracy: 0.7250 - loss: 0.7707 - val_accuracy: 0.5000 - val_loss: 2.2512\n",
      "Epoch 73/100\n",
      "50/50 - 0s - 2ms/step - accuracy: 0.7312 - loss: 0.7682 - val_accuracy: 0.5050 - val_loss: 2.2631\n",
      "Epoch 74/100\n",
      "50/50 - 0s - 2ms/step - accuracy: 0.7334 - loss: 0.7630 - val_accuracy: 0.5125 - val_loss: 2.4179\n"
     ]
    },
    {
     "name": "stdout",
     "output_type": "stream",
     "text": [
      "Epoch 75/100\n",
      "50/50 - 0s - 2ms/step - accuracy: 0.7362 - loss: 0.7580 - val_accuracy: 0.5200 - val_loss: 2.2947\n",
      "Epoch 76/100\n",
      "50/50 - 0s - 2ms/step - accuracy: 0.7319 - loss: 0.7541 - val_accuracy: 0.5050 - val_loss: 2.3180\n",
      "Epoch 77/100\n",
      "50/50 - 0s - 1ms/step - accuracy: 0.7378 - loss: 0.7487 - val_accuracy: 0.5150 - val_loss: 2.3376\n",
      "Epoch 78/100\n",
      "50/50 - 0s - 1ms/step - accuracy: 0.7362 - loss: 0.7461 - val_accuracy: 0.4975 - val_loss: 2.2344\n",
      "Epoch 79/100\n",
      "50/50 - 0s - 1ms/step - accuracy: 0.7366 - loss: 0.7435 - val_accuracy: 0.5050 - val_loss: 2.3101\n",
      "Epoch 80/100\n",
      "50/50 - 0s - 1ms/step - accuracy: 0.7400 - loss: 0.7382 - val_accuracy: 0.5200 - val_loss: 2.3732\n",
      "Epoch 81/100\n",
      "50/50 - 0s - 2ms/step - accuracy: 0.7453 - loss: 0.7335 - val_accuracy: 0.5200 - val_loss: 2.3834\n",
      "Epoch 82/100\n",
      "50/50 - 0s - 2ms/step - accuracy: 0.7459 - loss: 0.7300 - val_accuracy: 0.5100 - val_loss: 2.4041\n",
      "Epoch 83/100\n",
      "50/50 - 0s - 1ms/step - accuracy: 0.7447 - loss: 0.7263 - val_accuracy: 0.5075 - val_loss: 2.3711\n",
      "Epoch 84/100\n",
      "50/50 - 0s - 1ms/step - accuracy: 0.7522 - loss: 0.7206 - val_accuracy: 0.5075 - val_loss: 2.3190\n",
      "Epoch 85/100\n",
      "50/50 - 0s - 1ms/step - accuracy: 0.7494 - loss: 0.7184 - val_accuracy: 0.5000 - val_loss: 2.2677\n",
      "Epoch 86/100\n",
      "50/50 - 0s - 1ms/step - accuracy: 0.7522 - loss: 0.7152 - val_accuracy: 0.4950 - val_loss: 2.4211\n",
      "Epoch 87/100\n",
      "50/50 - 0s - 1ms/step - accuracy: 0.7513 - loss: 0.7095 - val_accuracy: 0.5125 - val_loss: 2.4406\n",
      "Epoch 88/100\n",
      "50/50 - 0s - 2ms/step - accuracy: 0.7506 - loss: 0.7087 - val_accuracy: 0.5100 - val_loss: 2.3666\n",
      "Epoch 89/100\n",
      "50/50 - 0s - 2ms/step - accuracy: 0.7497 - loss: 0.7047 - val_accuracy: 0.5025 - val_loss: 2.4139\n",
      "Epoch 90/100\n",
      "50/50 - 0s - 2ms/step - accuracy: 0.7613 - loss: 0.6992 - val_accuracy: 0.5100 - val_loss: 2.3979\n",
      "Epoch 91/100\n",
      "50/50 - 0s - 1ms/step - accuracy: 0.7522 - loss: 0.6966 - val_accuracy: 0.5075 - val_loss: 2.4375\n",
      "Epoch 92/100\n",
      "50/50 - 0s - 2ms/step - accuracy: 0.7588 - loss: 0.6902 - val_accuracy: 0.5000 - val_loss: 2.3881\n",
      "Epoch 93/100\n",
      "50/50 - 0s - 2ms/step - accuracy: 0.7578 - loss: 0.6903 - val_accuracy: 0.5075 - val_loss: 2.4510\n",
      "Epoch 94/100\n",
      "50/50 - 0s - 2ms/step - accuracy: 0.7634 - loss: 0.6842 - val_accuracy: 0.5000 - val_loss: 2.4043\n",
      "Epoch 95/100\n",
      "50/50 - 0s - 1ms/step - accuracy: 0.7622 - loss: 0.6812 - val_accuracy: 0.5050 - val_loss: 2.4001\n",
      "Epoch 96/100\n",
      "50/50 - 0s - 1ms/step - accuracy: 0.7719 - loss: 0.6757 - val_accuracy: 0.5075 - val_loss: 2.5293\n",
      "Epoch 97/100\n",
      "50/50 - 0s - 1ms/step - accuracy: 0.7625 - loss: 0.6741 - val_accuracy: 0.5025 - val_loss: 2.4581\n",
      "Epoch 98/100\n",
      "50/50 - 0s - 2ms/step - accuracy: 0.7675 - loss: 0.6705 - val_accuracy: 0.5250 - val_loss: 2.4879\n",
      "Epoch 99/100\n",
      "50/50 - 0s - 2ms/step - accuracy: 0.7709 - loss: 0.6647 - val_accuracy: 0.5175 - val_loss: 2.4148\n",
      "Epoch 100/100\n",
      "50/50 - 0s - 2ms/step - accuracy: 0.7703 - loss: 0.6635 - val_accuracy: 0.5125 - val_loss: 2.5666\n"
     ]
    }
   ],
   "source": [
    "num_epochs = 100\n",
    "batch_size = 16\n",
    "\n",
    "history = model.fit([x_train, y_train[:, :-1]], y_train[:, 1:], #[encoder_input_data, decoder_input_data], decoder_target_data\n",
    "                    batch_size=batch_size,\n",
    "                    epochs=num_epochs,\n",
    "                    validation_data=([x_val, x_val[:, :-1]], y_val[:, 1:]),\n",
    "                    verbose=2)"
   ]
  },
  {
   "cell_type": "code",
   "execution_count": 31,
   "metadata": {
    "id": "75SQ2Y-DcwYx"
   },
   "outputs": [
    {
     "data": {
      "image/png": "[encoded data removed]",
      "text/plain": [
       "<Figure size 640x480 with 1 Axes>"
      ]
     },
     "metadata": {},
     "output_type": "display_data"
    },
    {
     "data": {
      "image/png": "[encoded data removed]",
      "text/plain": [
       "<Figure size 640x480 with 1 Axes>"
      ]
     },
     "metadata": {},
     "output_type": "display_data"
    }
   ],
   "source": [
    "import matplotlib.pyplot as plt\n",
    "\n",
    "def plot_history(data_list, label_list, title, ylabel):\n",
    "    ''' Plots a list of vectors.\n",
    "\n",
    "    Parameters:\n",
    "        data_list  : list of vectors containing the values to plot\n",
    "        label_list : list of labels describing the data, one per vector\n",
    "        title      : title of the plot\n",
    "        ylabel     : label for the y axis\n",
    "    '''\n",
    "    epochs = range(1, len(data_list[0]) + 1)\n",
    "\n",
    "    for data, label in zip(data_list, label_list):\n",
    "        plt.plot(epochs, data, label=label)\n",
    "    plt.title(title)\n",
    "    plt.xlabel('Epochs')\n",
    "    plt.ylabel(ylabel)\n",
    "    plt.legend()\n",
    "\n",
    "    plt.show()\n",
    "    \n",
    "acc = history.history['accuracy']\n",
    "val_acc = history.history['val_accuracy']\n",
    "loss = history.history['loss']\n",
    "val_loss = history.history['val_loss']\n",
    "\n",
    "#Plot the history of loss and accuracy during epochs\n",
    "### PUT YOUR CODE HERE ###\n",
    "plot_history(data_list=[loss, val_loss],\n",
    "             label_list=['Training loss', 'Validation loss'],\n",
    "             title='Training and validation loss',\n",
    "             ylabel='Loss')\n",
    "plot_history(data_list=[acc, val_acc],\n",
    "             label_list=['Training acc.', 'Validation acc.'],\n",
    "             title='Training and validation accuracy',\n",
    "             ylabel='Accuracy')\n",
    "\n",
    "### END ###"
   ]
  },
  {
   "cell_type": "markdown",
   "metadata": {
    "id": "xBFRJMvYc8J6"
   },
   "source": [
    "Performance is not amazing (you should reach around 50-52% of validation accuracy) but far from random (random guess is 1/14 as we have 14 tokens). We could easily reach higher performances by using more training examples and more units in the recurrent layers, but training would start to be prohibitively long on the server. For example, with 2000 examples and 128 hidden units in both encoder and decoder, we easily reached above 70% of accuracy (~72-73%). You can try that out if you are working on your own computer or have time."
   ]
  },
  {
   "cell_type": "markdown",
   "metadata": {
    "id": "zQqSy7WYc_-c"
   },
   "source": [
    "### Exercise 4 - Building the model for inference\n",
    "\n",
    "At training time, we can use ground-truth labels as input for the decoder (teacher-forcing). This is not an option at test time though, where we should use predictions from one step to compute the next token. Define the decoder model that will be used later to perform inference. It should take a `decoder_state_input` (fed with the last state of the decoder or the state of the encoder when starting inference), the `decoder_inputs` (which will be composed of the prediction from previous step or `<SOS>` when starting inference) and produces a new prediction `decoder_outputs` and a new state `decoder_state`."
   ]
  },
  {
   "cell_type": "code",
   "execution_count": 32,
   "metadata": {
    "id": "c2hp9P2VdA9n"
   },
   "outputs": [],
   "source": [
    "encoder_model = Model(encoder_inputs, encoder_state)\n",
    "\n",
    "### PUT YOUR CODE HERE ###\n",
    "decoder_state_input = Input(shape=(hidden_size,))\n",
    "decoder_outputs, decoder_state = decoder_rnn_layer(decoder_inputs, initial_state=decoder_state_input)\n",
    "decoder_outputs = decoder_dense(decoder_outputs)\n",
    "### END ###\n",
    "decoder_model = Model([decoder_inputs, decoder_state_input], [decoder_outputs, decoder_state])"
   ]
  },
  {
   "cell_type": "markdown",
   "metadata": {
    "id": "vhLHhnPUdDE_"
   },
   "source": [
    "### Perform inference\n",
    "\n",
    "We can finally define the `decode_sequence` function that actually performs inference, taking a query as input and produces an answer. The inference stops when the decoder produces the <EOS> token or when the output reaches the maximum length (`max_decoder_seq_length`)."
   ]
  },
  {
   "cell_type": "code",
   "execution_count": 33,
   "metadata": {
    "id": "LNWPKEWSdGNa"
   },
   "outputs": [],
   "source": [
    "def decode_sequence(input_seq, max_decoder_seq_length):\n",
    "    # Encode the input as state vectors.\n",
    "    state_value = encoder_model.predict(input_seq)\n",
    "\n",
    "    # Generate empty target sequence of length 1.\n",
    "    target_seq = np.zeros((1, 1, ctable.num_tokens))\n",
    "    # Populate the first character of target sequence with the start character.\n",
    "    target_seq[0, 0, ctable.char_indices['s']] = 1.\n",
    "\n",
    "    # Sampling loop for a batch of sequences\n",
    "    # (to simplify, here we assume a batch of size 1).\n",
    "    stop_condition = False\n",
    "    decoded_sentence = ''\n",
    "    while not stop_condition:\n",
    "        output_tokens, state_value = decoder_model.predict(\n",
    "            [target_seq, state_value])\n",
    "\n",
    "        # Sample a token\n",
    "        sampled_token_index = np.argmax(output_tokens[0, -1, :])\n",
    "        sampled_char = ctable.indices_char[sampled_token_index]\n",
    "        decoded_sentence += sampled_char\n",
    "\n",
    "        # Exit condition: either hit max length\n",
    "        # or find stop character.\n",
    "        if (sampled_char == 'e' or\n",
    "           len(decoded_sentence) > max_decoder_seq_length):\n",
    "            stop_condition = True\n",
    "\n",
    "        # Update the target sequence (of length 1).\n",
    "        target_seq = np.zeros((1, 1, ctable.num_tokens))\n",
    "        target_seq[0, 0, sampled_token_index] = 1.\n",
    "\n",
    "    return decoded_sentence"
   ]
  },
  {
   "cell_type": "markdown",
   "metadata": {
    "id": "xUxaQ5s2dIjN"
   },
   "source": [
    "To test the function, let's try decode a few test examples."
   ]
  },
  {
   "cell_type": "code",
   "execution_count": 34,
   "metadata": {
    "id": "SDt_tEuWdLMT"
   },
   "outputs": [
    {
     "name": "stdout",
     "output_type": "stream",
     "text": [
      "\u001b[1m1/1\u001b[0m \u001b[32m━━━━━━━━━━━━━━━━━━━━\u001b[0m\u001b[37m\u001b[0m \u001b[1m0s\u001b[0m 76ms/step\n",
      "\u001b[1m1/1\u001b[0m \u001b[32m━━━━━━━━━━━━━━━━━━━━\u001b[0m\u001b[37m\u001b[0m \u001b[1m0s\u001b[0m 64ms/step\n",
      "\u001b[1m1/1\u001b[0m \u001b[32m━━━━━━━━━━━━━━━━━━━━\u001b[0m\u001b[37m\u001b[0m \u001b[1m0s\u001b[0m 8ms/step\n",
      "\u001b[1m1/1\u001b[0m \u001b[32m━━━━━━━━━━━━━━━━━━━━\u001b[0m\u001b[37m\u001b[0m \u001b[1m0s\u001b[0m 9ms/step\n",
      "Q 57+28 T 85 \u001b[91m☒\u001b[0m 88\n",
      "\u001b[1m1/1\u001b[0m \u001b[32m━━━━━━━━━━━━━━━━━━━━\u001b[0m\u001b[37m\u001b[0m \u001b[1m0s\u001b[0m 10ms/step\n",
      "\u001b[1m1/1\u001b[0m \u001b[32m━━━━━━━━━━━━━━━━━━━━\u001b[0m\u001b[37m\u001b[0m \u001b[1m0s\u001b[0m 7ms/step\n",
      "\u001b[1m1/1\u001b[0m \u001b[32m━━━━━━━━━━━━━━━━━━━━\u001b[0m\u001b[37m\u001b[0m \u001b[1m0s\u001b[0m 10ms/step\n"
     ]
    },
    {
     "name": "stderr",
     "output_type": "stream",
     "text": [
      "/Users/mertturhan/anaconda3/lib/python3.11/site-packages/keras/src/models/functional.py:225: UserWarning: The structure of `inputs` doesn't match the expected structure: ['keras_tensor_35', 'keras_tensor_39']. Received: the structure of inputs=('*', '*')\n",
      "  warnings.warn(\n"
     ]
    },
    {
     "name": "stdout",
     "output_type": "stream",
     "text": [
      "\u001b[1m1/1\u001b[0m \u001b[32m━━━━━━━━━━━━━━━━━━━━\u001b[0m\u001b[37m\u001b[0m \u001b[1m0s\u001b[0m 9ms/step\n",
      "Q 23+27 T 50 \u001b[91m☒\u001b[0m 52\n",
      "\u001b[1m1/1\u001b[0m \u001b[32m━━━━━━━━━━━━━━━━━━━━\u001b[0m\u001b[37m\u001b[0m \u001b[1m0s\u001b[0m 12ms/step\n",
      "\u001b[1m1/1\u001b[0m \u001b[32m━━━━━━━━━━━━━━━━━━━━\u001b[0m\u001b[37m\u001b[0m \u001b[1m0s\u001b[0m 8ms/step\n",
      "\u001b[1m1/1\u001b[0m \u001b[32m━━━━━━━━━━━━━━━━━━━━\u001b[0m\u001b[37m\u001b[0m \u001b[1m0s\u001b[0m 9ms/step\n",
      "\u001b[1m1/1\u001b[0m \u001b[32m━━━━━━━━━━━━━━━━━━━━\u001b[0m\u001b[37m\u001b[0m \u001b[1m0s\u001b[0m 8ms/step\n",
      "Q 53+46 T 99 \u001b[92m☑\u001b[0m 99\n",
      "\u001b[1m1/1\u001b[0m \u001b[32m━━━━━━━━━━━━━━━━━━━━\u001b[0m\u001b[37m\u001b[0m \u001b[1m0s\u001b[0m 9ms/step\n",
      "\u001b[1m1/1\u001b[0m \u001b[32m━━━━━━━━━━━━━━━━━━━━\u001b[0m\u001b[37m\u001b[0m \u001b[1m0s\u001b[0m 8ms/step\n",
      "\u001b[1m1/1\u001b[0m \u001b[32m━━━━━━━━━━━━━━━━━━━━\u001b[0m\u001b[37m\u001b[0m \u001b[1m0s\u001b[0m 9ms/step\n",
      "\u001b[1m1/1\u001b[0m \u001b[32m━━━━━━━━━━━━━━━━━━━━\u001b[0m\u001b[37m\u001b[0m \u001b[1m0s\u001b[0m 8ms/step\n",
      "Q 36+46 T 82 \u001b[91m☒\u001b[0m 88\n",
      "\u001b[1m1/1\u001b[0m \u001b[32m━━━━━━━━━━━━━━━━━━━━\u001b[0m\u001b[37m\u001b[0m \u001b[1m0s\u001b[0m 9ms/step\n",
      "\u001b[1m1/1\u001b[0m \u001b[32m━━━━━━━━━━━━━━━━━━━━\u001b[0m\u001b[37m\u001b[0m \u001b[1m0s\u001b[0m 8ms/step\n",
      "\u001b[1m1/1\u001b[0m \u001b[32m━━━━━━━━━━━━━━━━━━━━\u001b[0m\u001b[37m\u001b[0m \u001b[1m0s\u001b[0m 10ms/step\n",
      "\u001b[1m1/1\u001b[0m \u001b[32m━━━━━━━━━━━━━━━━━━━━\u001b[0m\u001b[37m\u001b[0m \u001b[1m0s\u001b[0m 9ms/step\n",
      "Q 30+3 T 33 \u001b[91m☒\u001b[0m 35\n",
      "\u001b[1m1/1\u001b[0m \u001b[32m━━━━━━━━━━━━━━━━━━━━\u001b[0m\u001b[37m\u001b[0m \u001b[1m0s\u001b[0m 9ms/step\n",
      "\u001b[1m1/1\u001b[0m \u001b[32m━━━━━━━━━━━━━━━━━━━━\u001b[0m\u001b[37m\u001b[0m \u001b[1m0s\u001b[0m 8ms/step\n",
      "\u001b[1m1/1\u001b[0m \u001b[32m━━━━━━━━━━━━━━━━━━━━\u001b[0m\u001b[37m\u001b[0m \u001b[1m0s\u001b[0m 10ms/step\n",
      "\u001b[1m1/1\u001b[0m \u001b[32m━━━━━━━━━━━━━━━━━━━━\u001b[0m\u001b[37m\u001b[0m \u001b[1m0s\u001b[0m 8ms/step\n",
      "Q 19+78 T 97 \u001b[91m☒\u001b[0m 99\n",
      "\u001b[1m1/1\u001b[0m \u001b[32m━━━━━━━━━━━━━━━━━━━━\u001b[0m\u001b[37m\u001b[0m \u001b[1m0s\u001b[0m 9ms/step\n",
      "\u001b[1m1/1\u001b[0m \u001b[32m━━━━━━━━━━━━━━━━━━━━\u001b[0m\u001b[37m\u001b[0m \u001b[1m0s\u001b[0m 8ms/step\n",
      "\u001b[1m1/1\u001b[0m \u001b[32m━━━━━━━━━━━━━━━━━━━━\u001b[0m\u001b[37m\u001b[0m \u001b[1m0s\u001b[0m 10ms/step\n",
      "\u001b[1m1/1\u001b[0m \u001b[32m━━━━━━━━━━━━━━━━━━━━\u001b[0m\u001b[37m\u001b[0m \u001b[1m0s\u001b[0m 8ms/step\n",
      "\u001b[1m1/1\u001b[0m \u001b[32m━━━━━━━━━━━━━━━━━━━━\u001b[0m\u001b[37m\u001b[0m \u001b[1m0s\u001b[0m 10ms/step\n",
      "Q 73+82 T 155 \u001b[91m☒\u001b[0m 147\n",
      "\u001b[1m1/1\u001b[0m \u001b[32m━━━━━━━━━━━━━━━━━━━━\u001b[0m\u001b[37m\u001b[0m \u001b[1m0s\u001b[0m 10ms/step\n",
      "\u001b[1m1/1\u001b[0m \u001b[32m━━━━━━━━━━━━━━━━━━━━\u001b[0m\u001b[37m\u001b[0m \u001b[1m0s\u001b[0m 10ms/step\n",
      "\u001b[1m1/1\u001b[0m \u001b[32m━━━━━━━━━━━━━━━━━━━━\u001b[0m\u001b[37m\u001b[0m \u001b[1m0s\u001b[0m 7ms/step\n",
      "\u001b[1m1/1\u001b[0m \u001b[32m━━━━━━━━━━━━━━━━━━━━\u001b[0m\u001b[37m\u001b[0m \u001b[1m0s\u001b[0m 9ms/step\n",
      "\u001b[1m1/1\u001b[0m \u001b[32m━━━━━━━━━━━━━━━━━━━━\u001b[0m\u001b[37m\u001b[0m \u001b[1m0s\u001b[0m 8ms/step\n",
      "Q 38+71 T 109 \u001b[92m☑\u001b[0m 109\n",
      "\u001b[1m1/1\u001b[0m \u001b[32m━━━━━━━━━━━━━━━━━━━━\u001b[0m\u001b[37m\u001b[0m \u001b[1m0s\u001b[0m 11ms/step\n",
      "\u001b[1m1/1\u001b[0m \u001b[32m━━━━━━━━━━━━━━━━━━━━\u001b[0m\u001b[37m\u001b[0m \u001b[1m0s\u001b[0m 7ms/step\n",
      "\u001b[1m1/1\u001b[0m \u001b[32m━━━━━━━━━━━━━━━━━━━━\u001b[0m\u001b[37m\u001b[0m \u001b[1m0s\u001b[0m 9ms/step\n",
      "\u001b[1m1/1\u001b[0m \u001b[32m━━━━━━━━━━━━━━━━━━━━\u001b[0m\u001b[37m\u001b[0m \u001b[1m0s\u001b[0m 8ms/step\n",
      "\u001b[1m1/1\u001b[0m \u001b[32m━━━━━━━━━━━━━━━━━━━━\u001b[0m\u001b[37m\u001b[0m \u001b[1m0s\u001b[0m 10ms/step\n",
      "Q 78+41 T 119 \u001b[91m☒\u001b[0m 117\n",
      "\u001b[1m1/1\u001b[0m \u001b[32m━━━━━━━━━━━━━━━━━━━━\u001b[0m\u001b[37m\u001b[0m \u001b[1m0s\u001b[0m 7ms/step\n",
      "\u001b[1m1/1\u001b[0m \u001b[32m━━━━━━━━━━━━━━━━━━━━\u001b[0m\u001b[37m\u001b[0m \u001b[1m0s\u001b[0m 9ms/step\n",
      "\u001b[1m1/1\u001b[0m \u001b[32m━━━━━━━━━━━━━━━━━━━━\u001b[0m\u001b[37m\u001b[0m \u001b[1m0s\u001b[0m 10ms/step\n",
      "\u001b[1m1/1\u001b[0m \u001b[32m━━━━━━━━━━━━━━━━━━━━\u001b[0m\u001b[37m\u001b[0m \u001b[1m0s\u001b[0m 9ms/step\n",
      "Q 25+68 T 93 \u001b[92m☑\u001b[0m 93\n"
     ]
    }
   ],
   "source": [
    "class colors:\n",
    "    ok = '\\033[92m'\n",
    "    fail = '\\033[91m'\n",
    "    close = '\\033[0m'\n",
    "    \n",
    "# Select 10 samples from the validation set at random so we can visualize\n",
    "# errors.\n",
    "for i in range(10):\n",
    "    ind = np.random.randint(0, len(x_test))\n",
    "    q, ea = x_test[np.array([ind])], y_test[np.array([ind])]\n",
    "    pred = decode_sequence(q, max_num_digits + 2)[:-1]\n",
    "    q = ctable.decode(q[0])\n",
    "    correct = ctable.decode(ea[0])[1:-1]\n",
    "    print('Q', q[::-1] if reverse else q, end=' ')\n",
    "    print('T', correct, end=' ')\n",
    "    if correct == pred:\n",
    "        print(colors.ok + '☑' + colors.close, end=' ')\n",
    "    else:\n",
    "        print(colors.fail + '☒' + colors.close, end=' ')\n",
    "    print(pred)"
   ]
  },
  {
   "cell_type": "markdown",
   "metadata": {
    "id": "Oqaqo5LT5Lfy"
   },
   "source": [
    "## Wrapping Up\n",
    "\n",
    "In this practical we have seen how to use Word Embeddings and how to add Attention Mechanism into the Recurrent Neural Networks.\n",
    "\n",
    "Here's what you should take away from this example:\n",
    "\n",
    "* Keras supports word embeddings via the Embedding layer.\n",
    "* The method build() is required to add weights to the attention layer.\n",
    "* The call() method is required for specifying the mapping of inputs to outputs of the attention layer.\n",
    "* You can add a custom attention layer to the deep learning network built using any kind of RNN.\n",
    "\n",
    "\n",
    "The Steps for Sequence-to-sequence learning:\n",
    "\n",
    "Encoder:\n",
    "\n",
    "* Receives the input sequence\n",
    "* It consumes the tokens at each time steps\n",
    "* After finishing all tokens in the input sequence, Encoder outputs **encoder state** ***as the context vector***.\n",
    "* Encoder stops \n",
    "\n",
    "Decoder:\n",
    "\n",
    "* Decoder produce the output sequece one by one \n",
    "* For each output, the decoder consumes a context vector and an input\n",
    "* The **initial context** vector is created by the **encoder**\n",
    "* The **initial input to the decoder** is a special symbol for decoder to make it start, e.g. '***\\<SOS>***'\n",
    "* Using initial context and initial input, the decoder will generate/predict the **first output**\n",
    "* For the next time step, decoder will use  **its own encoder state** ***as context vector*** and **generated/predicted output at the previous time step** as ***input***\n",
    "* Decoder will work in such a **loop** using its states and output as the next step context vector and input **until**:\n",
    "  * the generated output is a special symbol (e.g. '***\\<EOS>***') or \n",
    "  * the ***pre-defined maximum steps*** (length of output) is reached.\n"
   ]
  }
 ],
 "metadata": {
  "colab": {
   "collapsed_sections": [
    "5-yF0Cb5HlD1",
    "S7Ky07j5I7Qy",
    "Oqaqo5LT5Lfy"
   ],
   "provenance": []
  },
  "kernelspec": {
   "display_name": "Python 3 (ipykernel)",
   "language": "python",
   "name": "python3"
  },
  "language_info": {
   "codemirror_mode": {
    "name": "ipython",
    "version": 3
   },
   "file_extension": ".py",
   "mimetype": "text/x-python",
   "name": "python",
   "nbconvert_exporter": "python",
   "pygments_lexer": "ipython3",
   "version": "3.11.5"
  }
 },
 "nbformat": 4,
 "nbformat_minor": 1
}
